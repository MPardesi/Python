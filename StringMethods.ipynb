{
 "cells": [
  {
   "cell_type": "code",
   "execution_count": 1,
   "metadata": {},
   "outputs": [
    {
     "name": "stdout",
     "output_type": "stream",
     "text": [
      "string in upper case format is  THIS IS JUPYTER\n",
      "string in lower case format is  this is jupyter\n",
      "finding letter is  2\n",
      "spliting the string is  ['This', 'is', 'jupyter']\n",
      "output of join is  ['T_h_i_s_ _i_s_ _j_u_p_y_t_e_r']\n",
      "replacing words is  Hello macbook\n"
     ]
    }
   ],
   "source": [
    "# String Methods\n",
    "\n",
    "\n",
    "str1=\"This is jupyter\"\n",
    "\n",
    "\n",
    "print(\"string in upper case format is \",str1.upper())    # using upper() method\n",
    "\n",
    "\n",
    "print(\"string in lower case format is \",str1.lower())   # using lower() method\n",
    "\n",
    "\n",
    "print(\"finding letter is \",str1.find('is'))      # using find() method\n",
    "\n",
    "\n",
    "print(\"spliting the string is \",str1.split())     # using split() method & get output in form of list\n",
    "\n",
    "\n",
    "print(\"output of join is \",['_'.join(str1)])     # using join() method & get output in form of string\n",
    "\n",
    "\n",
    "print(\"replacing words is \",'Hi macbook'.replace(\"Hi\",\"Hello\"))    # using replace() method\n",
    "\n"
   ]
  },
  {
   "cell_type": "code",
   "execution_count": 2,
   "metadata": {},
   "outputs": [
    {
     "name": "stdout",
     "output_type": "stream",
     "text": [
      "Given string is palindrom string\n"
     ]
    }
   ],
   "source": [
    "# program to check given string is palindrom string or not\n",
    "\n",
    "\n",
    "mystr=\"mam\"\n",
    "\n",
    "revstr=reversed(mystr)    # reversed() used to make reverse of string\n",
    "\n",
    "if list(mystr)==list(revstr):\n",
    "    \n",
    "    print(\"Given string is palindrom string\")\n",
    "    \n",
    "else :\n",
    "    \n",
    "    print(\"Given string is simple string\")\n",
    "\n"
   ]
  },
  {
   "cell_type": "code",
   "execution_count": 4,
   "metadata": {},
   "outputs": [
    {
     "name": "stdout",
     "output_type": "stream",
     "text": [
      "This\n",
      "air\n",
      "and\n",
      "currently\n",
      "is\n",
      "jupyter\n",
      "macbook\n",
      "notebook\n",
      "with\n",
      "working\n"
     ]
    }
   ],
   "source": [
    "# program to sort words in alphabetic order\n",
    "\n",
    "astr=\"This is macbook air and currently working with jupyter notebook\"    # string create\n",
    "\n",
    "words=astr.split()    # first words are seperated using split() method \n",
    "\n",
    "words.sort()     # then words are sorted using sort() method\n",
    "\n",
    "for i in words:\n",
    "    \n",
    "    print(i)     # to print the words alphabeticaly for loop is used\n"
   ]
  },
  {
   "cell_type": "code",
   "execution_count": null,
   "metadata": {},
   "outputs": [],
   "source": []
  }
 ],
 "metadata": {
  "kernelspec": {
   "display_name": "Python 3",
   "language": "python",
   "name": "python3"
  },
  "language_info": {
   "codemirror_mode": {
    "name": "ipython",
    "version": 3
   },
   "file_extension": ".py",
   "mimetype": "text/x-python",
   "name": "python",
   "nbconvert_exporter": "python",
   "pygments_lexer": "ipython3",
   "version": "3.8.5"
  }
 },
 "nbformat": 4,
 "nbformat_minor": 4
}
