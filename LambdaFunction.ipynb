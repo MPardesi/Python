{
 "cells": [
  {
   "cell_type": "code",
   "execution_count": 9,
   "metadata": {},
   "outputs": [
    {
     "name": "stdout",
     "output_type": "stream",
     "text": [
      "Enter number 8\n",
      "Double of 8 is 16\n"
     ]
    }
   ],
   "source": [
    "# Lambda / Anonymous Function - is a function defined without a name and its declared using \"lambda\"lst= keyword\n",
    "\n",
    "# this function mostly used with built-in functions like filter(),map(),reduce()\n",
    "\n",
    "# syntax - function_name=lambda arguments : expression\n",
    "\n",
    "double=lambda x:x*2\n",
    "\n",
    "x=int(input(\"Enter number \"))\n",
    "\n",
    "print(\"Double of {0} is {1}\".format(x,double(x)))\n"
   ]
  },
  {
   "cell_type": "code",
   "execution_count": 12,
   "metadata": {},
   "outputs": [
    {
     "name": "stdout",
     "output_type": "stream",
     "text": [
      "List of even number using lambda is  [2, 4, 6, 8, 10]\n",
      "List of odd number using lambda is  [1, 3, 5, 7, 9]\n"
     ]
    }
   ],
   "source": [
    "# Lambda Function with filter()\n",
    "\n",
    "lst=[1,2,3,4,5,6,7,8,9,10]\n",
    "\n",
    "evenlst=list(filter((lambda x:x%2==0),lst))\n",
    "\n",
    "print(\"List of even number using lambda is \",evenlst)\n",
    "\n",
    "oddlst=list(filter((lambda x:x%2!=0),lst))\n",
    "\n",
    "print(\"List of odd number using lambda is \",oddlst)\n"
   ]
  },
  {
   "cell_type": "code",
   "execution_count": 14,
   "metadata": {},
   "outputs": [
    {
     "name": "stdout",
     "output_type": "stream",
     "text": [
      "Square of elements is  (1, 4, 9, 16, 25, 36, 49, 64, 81, 100)\n"
     ]
    }
   ],
   "source": [
    "# Lambda function with map()\n",
    "\n",
    "tpl=(1,2,3,4,5,6,7,8,9,10)\n",
    "\n",
    "square=tuple(map((lambda n:n**2),tpl))\n",
    "\n",
    "print(\"Square of elements is \",square)\n"
   ]
  },
  {
   "cell_type": "code",
   "execution_count": 24,
   "metadata": {},
   "outputs": [
    {
     "name": "stdout",
     "output_type": "stream",
     "text": [
      "Multiplication of set elements is  3628800\n"
     ]
    }
   ],
   "source": [
    "# Lambda function with reduce()\n",
    "\n",
    "from functools import reduce\n",
    "\n",
    "st={1,2,3,4,5,6,7,8,9,10}\n",
    "\n",
    "multiply=reduce((lambda a,b:a*b),st)\n",
    "\n",
    "print(\"Multiplication of set elements is \",multiply)\n"
   ]
  },
  {
   "cell_type": "code",
   "execution_count": null,
   "metadata": {},
   "outputs": [],
   "source": []
  }
 ],
 "metadata": {
  "kernelspec": {
   "display_name": "Python 3",
   "language": "python",
   "name": "python3"
  },
  "language_info": {
   "codemirror_mode": {
    "name": "ipython",
    "version": 3
   },
   "file_extension": ".py",
   "mimetype": "text/x-python",
   "name": "python",
   "nbconvert_exporter": "python",
   "pygments_lexer": "ipython3",
   "version": "3.8.5"
  }
 },
 "nbformat": 4,
 "nbformat_minor": 4
}
