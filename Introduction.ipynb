{
 "cells": [
  {
   "cell_type": "code",
   "execution_count": 1,
   "metadata": {},
   "outputs": [],
   "source": [
    "# Pandas is python module that contains library helps to read & process tabular data in DS,Ml & AI.\n",
    "\n",
    "# Pandas contains data frames which are most important data structure like in numpy  multidimensional array are important data structure.\n",
    "\n",
    "# To install pandas use \"pip3 install pandas\" command on command prompt.\n",
    "\n",
    "# A CSV (comma-separated values) file is a text file that has a specific format which allows data to be saved in a table structured format.\n",
    "\n",
    "# Data frame are nothing but a table which holds data in tabular form. "
   ]
  },
  {
   "cell_type": "code",
   "execution_count": 5,
   "metadata": {},
   "outputs": [
    {
     "data": {
      "text/html": [
       "<div>\n",
       "<style scoped>\n",
       "    .dataframe tbody tr th:only-of-type {\n",
       "        vertical-align: middle;\n",
       "    }\n",
       "\n",
       "    .dataframe tbody tr th {\n",
       "        vertical-align: top;\n",
       "    }\n",
       "\n",
       "    .dataframe thead th {\n",
       "        text-align: right;\n",
       "    }\n",
       "</style>\n",
       "<table border=\"1\" class=\"dataframe\">\n",
       "  <thead>\n",
       "    <tr style=\"text-align: right;\">\n",
       "      <th></th>\n",
       "      <th>Day</th>\n",
       "      <th>Temperature</th>\n",
       "      <th>Windspeed</th>\n",
       "      <th>Event</th>\n",
       "    </tr>\n",
       "  </thead>\n",
       "  <tbody>\n",
       "    <tr>\n",
       "      <th>0</th>\n",
       "      <td>05/01/2021 00:00:00</td>\n",
       "      <td>433</td>\n",
       "      <td>919</td>\n",
       "      <td>Rain</td>\n",
       "    </tr>\n",
       "    <tr>\n",
       "      <th>1</th>\n",
       "      <td>05/01/2021 23:53:20</td>\n",
       "      <td>360</td>\n",
       "      <td>491</td>\n",
       "      <td>Snow</td>\n",
       "    </tr>\n",
       "    <tr>\n",
       "      <th>2</th>\n",
       "      <td>05/03/2021 00:03:20</td>\n",
       "      <td>489</td>\n",
       "      <td>302</td>\n",
       "      <td>Fog</td>\n",
       "    </tr>\n",
       "    <tr>\n",
       "      <th>3</th>\n",
       "      <td>05/03/2021 23:56:40</td>\n",
       "      <td>560</td>\n",
       "      <td>839</td>\n",
       "      <td>Cloudy</td>\n",
       "    </tr>\n",
       "    <tr>\n",
       "      <th>4</th>\n",
       "      <td>05/05/2021 00:06:40</td>\n",
       "      <td>218</td>\n",
       "      <td>303</td>\n",
       "      <td>Sunny</td>\n",
       "    </tr>\n",
       "    <tr>\n",
       "      <th>5</th>\n",
       "      <td>05/06/2021 00:00:00</td>\n",
       "      <td>188</td>\n",
       "      <td>619</td>\n",
       "      <td>Rain</td>\n",
       "    </tr>\n",
       "    <tr>\n",
       "      <th>6</th>\n",
       "      <td>05/06/2021 23:53:20</td>\n",
       "      <td>594</td>\n",
       "      <td>192</td>\n",
       "      <td>Snow</td>\n",
       "    </tr>\n",
       "    <tr>\n",
       "      <th>7</th>\n",
       "      <td>05/08/2021 00:03:20</td>\n",
       "      <td>800</td>\n",
       "      <td>757</td>\n",
       "      <td>Fog</td>\n",
       "    </tr>\n",
       "    <tr>\n",
       "      <th>8</th>\n",
       "      <td>05/08/2021 23:56:40</td>\n",
       "      <td>554</td>\n",
       "      <td>391</td>\n",
       "      <td>Cloudy</td>\n",
       "    </tr>\n",
       "    <tr>\n",
       "      <th>9</th>\n",
       "      <td>05/10/2021 00:06:40</td>\n",
       "      <td>770</td>\n",
       "      <td>283</td>\n",
       "      <td>Sunny</td>\n",
       "    </tr>\n",
       "    <tr>\n",
       "      <th>10</th>\n",
       "      <td>05/11/2021 00:00:00</td>\n",
       "      <td>376</td>\n",
       "      <td>361</td>\n",
       "      <td>Snow</td>\n",
       "    </tr>\n",
       "    <tr>\n",
       "      <th>11</th>\n",
       "      <td>05/11/2021 23:53:20</td>\n",
       "      <td>501</td>\n",
       "      <td>35</td>\n",
       "      <td>Sunny</td>\n",
       "    </tr>\n",
       "    <tr>\n",
       "      <th>12</th>\n",
       "      <td>05/13/2021 00:03:20</td>\n",
       "      <td>980</td>\n",
       "      <td>902</td>\n",
       "      <td>Fog</td>\n",
       "    </tr>\n",
       "    <tr>\n",
       "      <th>13</th>\n",
       "      <td>05/13/2021 23:56:40</td>\n",
       "      <td>765</td>\n",
       "      <td>787</td>\n",
       "      <td>Cloudy</td>\n",
       "    </tr>\n",
       "    <tr>\n",
       "      <th>14</th>\n",
       "      <td>05/15/2021 00:06:40</td>\n",
       "      <td>727</td>\n",
       "      <td>907</td>\n",
       "      <td>Rain</td>\n",
       "    </tr>\n",
       "  </tbody>\n",
       "</table>\n",
       "</div>"
      ],
      "text/plain": [
       "                    Day  Temperature  Windspeed   Event\n",
       "0   05/01/2021 00:00:00          433        919    Rain\n",
       "1   05/01/2021 23:53:20          360        491    Snow\n",
       "2   05/03/2021 00:03:20          489        302     Fog\n",
       "3   05/03/2021 23:56:40          560        839  Cloudy\n",
       "4   05/05/2021 00:06:40          218        303   Sunny\n",
       "5   05/06/2021 00:00:00          188        619    Rain\n",
       "6   05/06/2021 23:53:20          594        192    Snow\n",
       "7   05/08/2021 00:03:20          800        757     Fog\n",
       "8   05/08/2021 23:56:40          554        391  Cloudy\n",
       "9   05/10/2021 00:06:40          770        283   Sunny\n",
       "10  05/11/2021 00:00:00          376        361    Snow\n",
       "11  05/11/2021 23:53:20          501         35   Sunny\n",
       "12  05/13/2021 00:03:20          980        902     Fog\n",
       "13  05/13/2021 23:56:40          765        787  Cloudy\n",
       "14  05/15/2021 00:06:40          727        907    Rain"
      ]
     },
     "execution_count": 5,
     "metadata": {},
     "output_type": "execute_result"
    }
   ],
   "source": [
    "import pandas as pd\n",
    "\n",
    "df=pd.read_csv(\"Weather.csv\")     # here df is data-frame which load a csv file using \"read_csv()\"\n",
    "\n",
    "df        # show csv file"
   ]
  },
  {
   "cell_type": "code",
   "execution_count": 7,
   "metadata": {},
   "outputs": [
    {
     "data": {
      "text/plain": [
       "980"
      ]
     },
     "execution_count": 7,
     "metadata": {},
     "output_type": "execute_result"
    }
   ],
   "source": [
    "# to get maximum temperature from csv file\n",
    "\n",
    "df['Temperature'].max()    # show maximum temperature,here \"df\" uses the column name from table i.e.['temp'] "
   ]
  },
  {
   "cell_type": "code",
   "execution_count": 9,
   "metadata": {},
   "outputs": [
    {
     "data": {
      "text/plain": [
       "0     05/01/2021 00:00:00\n",
       "5     05/06/2021 00:00:00\n",
       "14    05/15/2021 00:06:40\n",
       "Name: Day, dtype: object"
      ]
     },
     "execution_count": 9,
     "metadata": {},
     "output_type": "execute_result"
    }
   ],
   "source": [
    "# to know which day is rain\n",
    "\n",
    "df['Day'][df['Event']=='Rain']    # 'est' return date & [df['event']=='rain'] is a boolean expression"
   ]
  },
  {
   "cell_type": "code",
   "execution_count": 10,
   "metadata": {},
   "outputs": [
    {
     "data": {
      "text/plain": [
       "539.2"
      ]
     },
     "execution_count": 10,
     "metadata": {},
     "output_type": "execute_result"
    }
   ],
   "source": [
    "# to know average wind speed\n",
    "\n",
    "df['Windspeed'].mean()    # here \"df\" uses the column name from table i.e.['windspeed'] "
   ]
  },
  {
   "cell_type": "code",
   "execution_count": null,
   "metadata": {},
   "outputs": [],
   "source": [
    "# DIFFERENCE BETWEEN NUMPY AND PANDAS : \n",
    "\n",
    "# The Pandas module mainly works with the tabular data, whereas the NumPy module works with the numerical data.\n",
    "\n",
    "# The Pandas provides some sets of powerful tools like DataFrame and Series that mainly used for analyzing the data, whereas in NumPy module offers a powerful object called Array. "
   ]
  }
 ],
 "metadata": {
  "kernelspec": {
   "display_name": "Python 3",
   "language": "python",
   "name": "python3"
  },
  "language_info": {
   "codemirror_mode": {
    "name": "ipython",
    "version": 3
   },
   "file_extension": ".py",
   "mimetype": "text/x-python",
   "name": "python",
   "nbconvert_exporter": "python",
   "pygments_lexer": "ipython3",
   "version": "3.8.5"
  }
 },
 "nbformat": 4,
 "nbformat_minor": 4
}
