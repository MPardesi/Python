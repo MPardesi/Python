{
 "cells": [
  {
   "cell_type": "code",
   "execution_count": 1,
   "metadata": {},
   "outputs": [
    {
     "name": "stdout",
     "output_type": "stream",
     "text": [
      "set values are  {1, 2}\n",
      "set creation from list is  {3, 4}\n",
      "newly added elements are  {1, 2, 3}\n",
      "multiple elements added are  {1, 2, 3, 4, 5, 6}\n",
      "elements added through list and set are  {1, 2, 3, 4, 5, 6, 7, 8, 9, 10}\n",
      "set after discard is  {4}\n",
      "set after removed is  set()\n",
      "set element deleted using pop is  {2, 3, 4, 5, 6, 7, 8, 9, 10}\n",
      "set()\n"
     ]
    }
   ],
   "source": [
    "# Set Methods\n",
    "\n",
    "st={1,2}    #1. set create\n",
    "\n",
    "print(\"set values are \",st)\n",
    "\n",
    "\n",
    "s=set([3,4])    #2. set creadted from list using \"set()\" constructor\n",
    "\n",
    "print(\"set creation from list is \",s)\n",
    "\n",
    "\n",
    "st.add(3)       #3. element add using add()\"but it adds only one element at a time\"\n",
    "\n",
    "print(\"newly added elements are \",st)\n",
    "\n",
    "\n",
    "st.update([4,5,6])    #4. multiple elements are added using update() by defining element through list\n",
    "\n",
    "print(\"multiple elements added are \",st)\n",
    "\n",
    "\n",
    "st.update([7,8],{9,10})    #5. elements added through list and set using update()\n",
    "\n",
    "print(\"elements added through list and set are \",st)\n",
    "\n",
    "\n",
    "#6. set element delete\n",
    "\n",
    "\n",
    "s.discard(3)    # using discard()\n",
    "\n",
    "print(\"set after discard is \",s)\n",
    "\n",
    "\n",
    "s.remove(4)    #using remove()\n",
    "\n",
    "print(\"set after removed is \",s)\n",
    "\n",
    "\n",
    "st.pop()     # using pop() \"which delete set element sequentially\"\n",
    "\n",
    "print(\"set element deleted using pop is \",st)\n",
    "\n",
    "\n",
    "st.clear()   # clear all set element using clear()\n",
    "\n",
    "print(st)\n",
    "\n"
   ]
  },
  {
   "cell_type": "code",
   "execution_count": null,
   "metadata": {},
   "outputs": [],
   "source": []
  }
 ],
 "metadata": {
  "kernelspec": {
   "display_name": "Python 3",
   "language": "python",
   "name": "python3"
  },
  "language_info": {
   "codemirror_mode": {
    "name": "ipython",
    "version": 3
   },
   "file_extension": ".py",
   "mimetype": "text/x-python",
   "name": "python",
   "nbconvert_exporter": "python",
   "pygments_lexer": "ipython3",
   "version": "3.8.5"
  }
 },
 "nbformat": 4,
 "nbformat_minor": 4
}
