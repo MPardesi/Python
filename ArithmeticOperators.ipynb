{
 "cells": [
  {
   "cell_type": "code",
   "execution_count": 1,
   "metadata": {},
   "outputs": [
    {
     "name": "stdout",
     "output_type": "stream",
     "text": [
      "30\n",
      "10\n",
      "200\n",
      "2.0\n",
      "1\n",
      "3\n",
      "-4\n",
      "17.5\n",
      "8\n"
     ]
    }
   ],
   "source": [
    "# Arithmetic Operators\n",
    "\n",
    "x=20;y=10\n",
    "\n",
    "print(x+y)    # addition\n",
    "\n",
    "print(x-y)    # substraction\n",
    "\n",
    "print(x*y)    # multiplication\n",
    "\n",
    "print(x/y)    # division\n",
    "\n",
    "print(35%2)   # modulus \"which returns remainder after divindig the number\"\n",
    "\n",
    "print(15//4)  # floor division \"3.75 ouput is rounded down so ans is 3\"\n",
    "print(-15//4) # floor division \"-3.75 ouput is rounde up so ans is -4\"\n",
    "\n",
    "print(35/2)   \n",
    "\n",
    "print(2**3)   # exponent \"power of\"\n"
   ]
  },
  {
   "cell_type": "code",
   "execution_count": null,
   "metadata": {},
   "outputs": [],
   "source": []
  },
  {
   "cell_type": "code",
   "execution_count": null,
   "metadata": {},
   "outputs": [],
   "source": []
  },
  {
   "cell_type": "code",
   "execution_count": null,
   "metadata": {},
   "outputs": [],
   "source": []
  }
 ],
 "metadata": {
  "kernelspec": {
   "display_name": "Python 3",
   "language": "python",
   "name": "python3"
  },
  "language_info": {
   "codemirror_mode": {
    "name": "ipython",
    "version": 3
   },
   "file_extension": ".py",
   "mimetype": "text/x-python",
   "name": "python",
   "nbconvert_exporter": "python",
   "pygments_lexer": "ipython3",
   "version": "3.8.5"
  }
 },
 "nbformat": 4,
 "nbformat_minor": 4
}
