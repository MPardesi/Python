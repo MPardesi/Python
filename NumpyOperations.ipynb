{
 "cells": [
  {
   "cell_type": "code",
   "execution_count": 1,
   "metadata": {},
   "outputs": [],
   "source": [
    "import numpy as np"
   ]
  },
  {
   "cell_type": "code",
   "execution_count": 7,
   "metadata": {},
   "outputs": [
    {
     "name": "stdout",
     "output_type": "stream",
     "text": [
      "Array is  [77 43 31]\n",
      "Scalar addition is  [78 44 32]\n",
      "Scalar multiplication is  [5929 1849  961]\n"
     ]
    }
   ],
   "source": [
    "# Numpy Operations -\n",
    "\n",
    "# 1. Scalar addition & multiplication (done elementwise)\n",
    "\n",
    "sa=np.array([77,43,31])\n",
    "\n",
    "print(\"Array is \",sa) \n",
    "\n",
    "print(\"Scalar addition is \",sa+1)    # adds 1 to each element of array\n",
    "\n",
    "print(\"Scalar multiplication is \",sa**2)     # multiply each element by 2 \n"
   ]
  },
  {
   "cell_type": "code",
   "execution_count": 4,
   "metadata": {},
   "outputs": [
    {
     "name": "stdout",
     "output_type": "stream",
     "text": [
      "Another array is  [2. 2. 2. 2.]\n",
      "Substraction of sa & sb is  [-1.  0.  1.  2.]\n",
      "Multiplication is  [2. 4. 6. 8.]\n"
     ]
    }
   ],
   "source": [
    "sa=np.array([1,2,3,4])\n",
    "\n",
    "sb=np.ones(4)+1     # create array of 1 then add 1 to each element\n",
    "\n",
    "print(\"Another array is \",sb)\n",
    "\n",
    "print(\"Substraction of sa & sb is \",sa-sb)\n",
    "\n",
    "print(\"Multiplication is \",sa*sb)\n"
   ]
  },
  {
   "cell_type": "code",
   "execution_count": 6,
   "metadata": {},
   "outputs": [
    {
     "name": "stdout",
     "output_type": "stream",
     "text": [
      "[[1 0 0 0]\n",
      " [0 2 0 0]\n",
      " [0 0 3 0]\n",
      " [0 0 0 4]]\n",
      "-------------------------\n",
      "Matrix multiplication is \n",
      "[[ 1  0  0  0]\n",
      " [ 0  4  0  0]\n",
      " [ 0  0  9  0]\n",
      " [ 0  0  0 16]]\n",
      "-------------------------\n",
      "[[ 1  0  0  0]\n",
      " [ 0  4  0  0]\n",
      " [ 0  0  9  0]\n",
      " [ 0  0  0 16]]\n",
      "***** Another Example *****\n",
      "Elementwise multiplication is \n",
      "[[ 1  4  9]\n",
      " [16 25 36]\n",
      " [49 64 81]]\n",
      "Matrix multiplication is \n",
      "[[ 30  36  42]\n",
      " [ 66  81  96]\n",
      " [102 126 150]]\n"
     ]
    }
   ],
   "source": [
    "# 2. Matrix multiplication -\n",
    "\n",
    "m=np.diag([1,2,3,4])\n",
    "\n",
    "print(m)\n",
    "\n",
    "print(\"-------------------------\")\n",
    "\n",
    "print(\"Matrix multiplication is \")\n",
    "\n",
    "print(m*m)     # it will do elementwise multiplication \n",
    "\n",
    "print(\"-------------------------\")\n",
    "\n",
    "print(m.dot(m))    # it will do matrix multiplication\n",
    "\n",
    "print(\"***** Another Example *****\")\n",
    "\n",
    "a = np.array([[1,2,3],[4,5,6],[7,8,9]])\n",
    "\n",
    "print(\"Elementwise multiplication is \")\n",
    "\n",
    "print(a*a)    # it will do elementwise multiplication \n",
    "\n",
    "print(\"Matrix multiplication is \")\n",
    "\n",
    "print(a.dot(a))    # it will do matrix multiplication\n"
   ]
  },
  {
   "cell_type": "code",
   "execution_count": 52,
   "metadata": {},
   "outputs": [
    {
     "name": "stdout",
     "output_type": "stream",
     "text": [
      "equal or not  [False  True False  True]\n",
      "Greater or not  [False False  True False]\n",
      "***************---------------***************\n",
      "Array c1 equal to c2  False\n",
      "Array c1 equal to c3  True\n",
      "***************---------------***************\n",
      "Logical or  [ True  True  True False]\n",
      "Logical and  [ True False False False]\n",
      "***************---------------***************\n",
      "All function results  False\n",
      "Any function results  True\n",
      "Result is  False\n",
      "Result is  True\n"
     ]
    }
   ],
   "source": [
    "# 3. Comparison - \n",
    "\n",
    "c1=np.array([1,2,3,4])\n",
    "\n",
    "c2=np.array([5,2,2,4])\n",
    "\n",
    "print(\"equal or not \",c1==c2)    # elementwise comparison is done\n",
    "\n",
    "print(\"Greater or not \",c1>c2) \n",
    "\n",
    "print(\"***************---------------***************\")\n",
    "\n",
    "c3=np.array([1,2,3,4])\n",
    "\n",
    "print(\"Array c1 equal to c2 \",np.array_equal(c1,c2))      # arraywise comparison is done\n",
    "\n",
    "print(\"Array c1 equal to c3 \",np.array_equal(c1,c3))\n",
    "\n",
    "print(\"***************---------------***************\")\n",
    "\n",
    "la=np.array([1,1,0,0])\n",
    "\n",
    "lb=np.array([1,0,1,0])\n",
    "\n",
    "print(\"Logical or \",np.logical_or(la,lb))      # logical operation\n",
    "\n",
    "print(\"Logical and \",np.logical_and(la,lb))\n",
    "\n",
    "print(\"***************---------------***************\")\n",
    "\n",
    "print(\"All function results \",np.all([True,True,False]))     # any one element is false return false else true like logical and\n",
    "\n",
    "print(\"Any function results \",np.any([True,False,False]))    # any one element is true return true else false like logical or\n",
    "\n",
    "z=np.zeros((50,50))\n",
    "\n",
    "print(\"Result is \",np.any(z!=0))      # used for array comparison\n",
    "\n",
    "print(\"Result is \",np.all(z==z))\n",
    "\n"
   ]
  },
  {
   "cell_type": "code",
   "execution_count": 27,
   "metadata": {},
   "outputs": [
    {
     "name": "stdout",
     "output_type": "stream",
     "text": [
      "array is  [0 1 2 3 4]\n",
      "sin of a is  [ 0.          0.84147098  0.90929743  0.14112001 -0.7568025 ]\n",
      "log of a is  [      -inf 0.         0.69314718 1.09861229 1.38629436]\n",
      "exponent of a is  [ 1.          2.71828183  7.3890561  20.08553692 54.59815003]\n"
     ]
    },
    {
     "name": "stderr",
     "output_type": "stream",
     "text": [
      "<ipython-input-27-487d40ca5847>:9: RuntimeWarning: divide by zero encountered in log\n",
      "  print(\"log of a is \",np.log(ta))\n"
     ]
    }
   ],
   "source": [
    "# 4. Trigonometric functions -\n",
    "\n",
    "ta=np.arange(5)\n",
    "\n",
    "print(\"array is \",ta)\n",
    "\n",
    "print(\"sin of a is \",np.sin(ta))\n",
    "\n",
    "print(\"log of a is \",np.log(ta))\n",
    "\n",
    "print(\"exponent of a is \",np.exp(ta))\n"
   ]
  },
  {
   "cell_type": "code",
   "execution_count": 44,
   "metadata": {},
   "outputs": [
    {
     "name": "stdout",
     "output_type": "stream",
     "text": [
      "Sum of array is 40\n",
      "***************---------------***************\n",
      "[[1 1]\n",
      " [2 2]]\n",
      "Column-wise addition is  [3 3]\n",
      "row-wise addition is  [2 4]\n",
      "***************---------------***************\n",
      "Minimum number of array is  4\n",
      "Maximum number of array is  8\n",
      "***************---------------***************\n",
      "index of minimum number is  0\n",
      "index of maximum number is  4\n",
      "***************---------------***************\n"
     ]
    }
   ],
   "source": [
    "# 5. Basic Reduction Functions - \n",
    "\n",
    "# a) sum() -\n",
    "\n",
    "ra=np.array([10,9,8,7,6])\n",
    "\n",
    "print(\"Sum of array is\",sum(ra))\n",
    "\n",
    "print(\"***************---------------***************\")\n",
    "\n",
    "\n",
    "# b) sum by columns & rows -\n",
    "\n",
    "ca=np.array([[1,1],[2,2]])\n",
    "\n",
    "print(ca)\n",
    "\n",
    "print(\"Column-wise addition is \",ca.sum(axis=0))     # \"axis=0\" will perform columnwise sum\n",
    "\n",
    "print(\"row-wise addition is \",ca.sum(axis=1))        # \"axis=1\" will perform rowwise sum\n",
    "\n",
    "print(\"***************---------------***************\")\n",
    "\n",
    "\n",
    "# c) min & max -\n",
    "\n",
    "mn=np.array([4,5,6,7,8])\n",
    "\n",
    "print(\"Minimum number of array is \",mn.min())\n",
    "\n",
    "print(\"Maximum number of array is \",mn.max())\n",
    "\n",
    "print(\"***************---------------***************\")\n",
    "\n",
    "print(\"index of minimum number is \",mn.argmin())       # argmin() returns index of minimum number\n",
    "\n",
    "print(\"index of maximum number is \",mn.argmax())       # argmax() returns index of maximum number\n",
    "\n",
    "print(\"***************---------------***************\")\n"
   ]
  },
  {
   "cell_type": "code",
   "execution_count": 3,
   "metadata": {},
   "outputs": [],
   "source": [
    "# 6. Loading text file into numpy object \"np\" \n",
    "\n",
    "data=np.loadtxt('file_name')\n",
    "\n",
    "data        # print data in array format\n",
    "\n",
    "data.T      # transpose of matrix done \n",
    "\n"
   ]
  },
  {
   "cell_type": "code",
   "execution_count": 6,
   "metadata": {},
   "outputs": [
    {
     "name": "stdout",
     "output_type": "stream",
     "text": [
      "Original array is  [ 0 10 20 30]\n",
      "_______________________________________\n",
      "Broadcasting array is \n",
      "[[ 0 10 20 30]\n",
      " [ 0 10 20 30]\n",
      " [ 0 10 20 30]]\n",
      "_______________________________________\n",
      "Transpose of matrix \n",
      "[[ 0  0  0]\n",
      " [10 10 10]\n",
      " [20 20 20]\n",
      " [30 30 30]]\n",
      "_______________________________________\n",
      "Another array is  [0 1 2]\n",
      "_______________________________________\n"
     ]
    },
    {
     "data": {
      "text/plain": [
       "array([[ 0,  1,  2],\n",
       "       [10, 11, 12],\n",
       "       [20, 21, 22],\n",
       "       [30, 31, 32]])"
      ]
     },
     "execution_count": 6,
     "metadata": {},
     "output_type": "execute_result"
    }
   ],
   "source": [
    "# 7. Element-wise Broadcasting - means creating tiles of array to perform operations\n",
    "\n",
    "ba=np.arange(0,40,10)\n",
    "\n",
    "print(\"Original array is \",ba)\n",
    "\n",
    "print(\"_______________________________________\")\n",
    "\n",
    "ba1=np.tile(np.arange(0,40,10),(3,1))      # tile() create copies of array\n",
    " \n",
    "print(\"Broadcasting array is \")\n",
    "\n",
    "print(ba1)\n",
    "\n",
    "print(\"_______________________________________\")\n",
    "\n",
    "ba1=ba1.T      # \"T\" it's a module defined in numpy package used for transpose of matrix \n",
    "\n",
    "print(\"Transpose of matrix \")\n",
    "\n",
    "print(ba1)\n",
    "\n",
    "print(\"_______________________________________\")\n",
    "\n",
    "ba2=np.array([0,1,2])\n",
    "\n",
    "print(\"Another array is \",ba2)\n",
    "\n",
    "print(\"_______________________________________\")\n",
    "\n",
    "ba1+ba2"
   ]
  },
  {
   "cell_type": "code",
   "execution_count": 35,
   "metadata": {},
   "outputs": [
    {
     "name": "stdout",
     "output_type": "stream",
     "text": [
      "Array dimension is (4,)\n",
      "First Array is  [ 0 10 20 30]\n",
      "_______________________________________\n",
      "New array dimension is (4, 1)\n",
      "[[ 0]\n",
      " [10]\n",
      " [20]\n",
      " [30]]\n",
      "_______________________________________\n",
      "Second Array dimension is (3,)\n",
      "Second array is \n",
      "[0 1 2]\n",
      "_______________________________________\n",
      "Addition of two array is \n",
      "[[ 0  1  2]\n",
      " [10 11 12]\n",
      " [20 21 22]\n",
      " [30 31 32]]\n"
     ]
    }
   ],
   "source": [
    "# 8. Matrix-wise Broadcasting - \n",
    "\n",
    "# np.newaxis object allows us to add an axis to an array\n",
    "\n",
    "# newaxis is used to increase the dimension of existing array by one more dimension hence 1D became 2D, 2D became 3D and so on.\n",
    "\n",
    "a=np.arange(0,40,10)   \n",
    "\n",
    "print(\"First Array dimension is\",a.shape)     # shape defines dimensions of array\n",
    "\n",
    "print(\"First Array is \",a)       # creates 1D array\n",
    "\n",
    "print(\"_______________________________________\")\n",
    "\n",
    "a1=a[:,np.newaxis]        # convert 1D array to 2D array (i.e. adds new axis to form 2D array) ,Here \":\" indicates all rows of array\n",
    "\n",
    "print(\"New array dimension is\",a1.shape)    #  checks whether axis is added or not\n",
    "\n",
    "print(a1)      # creates 2D array\n",
    "\n",
    "print(\"_______________________________________\")\n",
    "\n",
    "b=np.array([0,1,2])\n",
    "\n",
    "print(\"Second Array dimension is\",b.shape)\n",
    "\n",
    "print(\"Second array is \")\n",
    "\n",
    "print(b)\n",
    "\n",
    "print(\"_______________________________________\")\n",
    "\n",
    "print(\"Addition of two array is \")\n",
    "\n",
    "print(a1+b)\n"
   ]
  },
  {
   "cell_type": "code",
   "execution_count": 58,
   "metadata": {},
   "outputs": [
    {
     "name": "stdout",
     "output_type": "stream",
     "text": [
      "Array is \n",
      "[[1 2 3]\n",
      " [4 5 6]]\n",
      "-------------------------------\n",
      "Flattened array is  [1 2 3 4 5 6]\n",
      "-------------------------------\n",
      "Transpose of flattened array is \n",
      "[[1 4]\n",
      " [2 5]\n",
      " [3 6]]\n",
      "-------------------------------\n",
      "Ravel after transpose  [1 4 2 5 3 6]\n"
     ]
    }
   ],
   "source": [
    "# 9. Array shape manipulation \n",
    "\n",
    "# A) Flattening -\n",
    "\n",
    "fl=np.array([[1,2,3],[4,5,6]])\n",
    "\n",
    "print(\"Array is \")\n",
    "\n",
    "print(fl)\n",
    "\n",
    "print(\"-------------------------------\")\n",
    "\n",
    "print(\"Flattened array is \",fl.ravel())    # ravel() converts 2D array into 1D\n",
    "\n",
    "print(\"-------------------------------\")\n",
    "\n",
    "print(\"Transpose of flattened array is \")\n",
    "\n",
    "print(fl.T)                 \n",
    "\n",
    "print(\"-------------------------------\")\n",
    "\n",
    "print(\"Ravel after transpose \",fl.T.ravel())      # used to get array with different values\n"
   ]
  },
  {
   "cell_type": "code",
   "execution_count": 57,
   "metadata": {},
   "outputs": [
    {
     "name": "stdout",
     "output_type": "stream",
     "text": [
      "Dimension of original array is  (2, 3)\n",
      "-------------------------------\n",
      "Raveled array is  [1 2 3 4 5 6]\n",
      "-------------------------------\n",
      "Array after reshaping \n",
      "[[1 2 3]\n",
      " [4 5 6]]\n"
     ]
    }
   ],
   "source": [
    "# B) Reshaping - It's nothing but inverse of flattening\n",
    "\n",
    "print(\"Dimension of original array is \",fl.shape)\n",
    "\n",
    "print(\"-------------------------------\")\n",
    "\n",
    "r=fl.ravel()          # convert simple array to flattened array\n",
    "\n",
    "print(\"Raveled array is \",r)\n",
    "\n",
    "print(\"-------------------------------\")\n",
    "\n",
    "r=r.reshape(2,3)      # convert flattened array to simple array,also return copy of array sometime\n",
    "\n",
    "print(\"Array after reshaping \")\n",
    "\n",
    "print(r)"
   ]
  },
  {
   "cell_type": "code",
   "execution_count": 5,
   "metadata": {},
   "outputs": [
    {
     "name": "stdout",
     "output_type": "stream",
     "text": [
      "Array is \n",
      "Changed value array  [[[ 0  1]\n",
      "  [ 2  3]\n",
      "  [ 4  5]]\n",
      "\n",
      " [[ 6  7]\n",
      "  [ 8  9]\n",
      "  [10 11]]\n",
      "\n",
      " [[12 13]\n",
      "  [14 15]\n",
      "  [16 17]]\n",
      "\n",
      " [[18 19]\n",
      "  [20 21]\n",
      "  [22 23]]]\n"
     ]
    }
   ],
   "source": [
    "# C) Dimension shuffling - \n",
    "\n",
    "ds=np.arange(4*3*2).reshape(4,3,2)    # it will create 3D array having 4 matrix,3 rows & 2 columns ; values ranges from 0 to 23\n",
    "\n",
    "print(\"Array is \")\n",
    "\n",
    "ds\n",
    "\n",
    "ds[0,2,1]      # change value of 0th array,2nd row 1st column \n",
    "\n",
    "print(\"Changed value array \",ds)\n"
   ]
  },
  {
   "cell_type": "code",
   "execution_count": 21,
   "metadata": {},
   "outputs": [
    {
     "name": "stdout",
     "output_type": "stream",
     "text": [
      "Array before sorting \n",
      "[[ 7  6  5]\n",
      " [10  9  8]]\n",
      "Array after sorting \n",
      "[[ 5  6  7]\n",
      " [ 8  9 10]]\n",
      "-----------------------------------\n",
      "sorted index are  [4 3 2 1 0]\n",
      "fetching element through index is  [4 5 6 7 8]\n"
     ]
    }
   ],
   "source": [
    "# D) Sorting Data -\n",
    "\n",
    "# sorting using axis :\n",
    "\n",
    "s=np.array([[7,6,5],[10,9,8]])\n",
    "\n",
    "print(\"Array before sorting \")\n",
    "\n",
    "print(s)\n",
    "\n",
    "print(\"Array after sorting \")\n",
    "\n",
    "s.sort(axis=1)        \n",
    "\n",
    "print(s)\n",
    "\n",
    "print(\"-----------------------------------\")\n",
    "\n",
    "# sorting using fancy indexing :\n",
    "\n",
    "sf=np.array([8,7,6,5,4])\n",
    "\n",
    "s=np.argsort(sf)     # argsort() returns index after sorting element\n",
    "\n",
    "print(\"sorted index are \",s)      \n",
    "\n",
    "print(\"fetching element through index is \",sf[s])     # sf[s] used to get element through sorted index\n"
   ]
  },
  {
   "cell_type": "code",
   "execution_count": null,
   "metadata": {},
   "outputs": [],
   "source": []
  }
 ],
 "metadata": {
  "kernelspec": {
   "display_name": "Python 3",
   "language": "python",
   "name": "python3"
  },
  "language_info": {
   "codemirror_mode": {
    "name": "ipython",
    "version": 3
   },
   "file_extension": ".py",
   "mimetype": "text/x-python",
   "name": "python",
   "nbconvert_exporter": "python",
   "pygments_lexer": "ipython3",
   "version": "3.8.5"
  }
 },
 "nbformat": 4,
 "nbformat_minor": 4
}
