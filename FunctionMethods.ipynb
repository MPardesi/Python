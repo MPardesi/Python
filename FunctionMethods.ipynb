{
 "cells": [
  {
   "cell_type": "code",
   "execution_count": 4,
   "metadata": {},
   "outputs": [
    {
     "name": "stdout",
     "output_type": "stream",
     "text": [
      "Absolute value is  68\n",
      "List Items are iterable  True\n",
      "Tuple Items are iterable  False\n",
      "Set Items are iterable  True\n",
      "Attributes of list are  ['__add__', '__class__', '__contains__', '__delattr__', '__delitem__', '__dir__', '__doc__', '__eq__', '__format__', '__ge__', '__getattribute__', '__getitem__', '__gt__', '__hash__', '__iadd__', '__imul__', '__init__', '__init_subclass__', '__iter__', '__le__', '__len__', '__lt__', '__mul__', '__ne__', '__new__', '__reduce__', '__reduce_ex__', '__repr__', '__reversed__', '__rmul__', '__setattr__', '__setitem__', '__sizeof__', '__str__', '__subclasshook__', 'append', 'clear', 'copy', 'count', 'extend', 'index', 'insert', 'pop', 'remove', 'reverse', 'sort']\n",
      "Answer of divmod operation is  (7, 2)\n",
      "Index 10 has value 1\n",
      "Index 11 has value 3\n",
      "Index 12 has value 5\n",
      "Index 13 has value 7\n",
      "d variable is type of dictionary?  True\n"
     ]
    }
   ],
   "source": [
    "# Built-in Functions \n",
    "\n",
    "a=-68\n",
    "\n",
    "print(\"Absolute value is \",abs(a))     # 1. abs() converts negative value to positive value \n",
    "\n",
    "\n",
    "lst=[1,3,5,7]\n",
    "\n",
    "print(\"List Items are iterable \",all(lst))   # 2. all() checks whether elements are iterable or not\n",
    "\n",
    "tpl=(0,2,4,6)\n",
    "\n",
    "print(\"Tuple Items are iterable \",all(tpl))   # all() returns false if \"zero\" or \"false\" element is present as item\n",
    "\n",
    "st={}\n",
    "\n",
    "print(\"Set Items are iterable \",all(st))     # all() returns \"True\" for empty list,set,tuple,dictionary\n",
    "\n",
    "\n",
    "\n",
    "print(\"Attributes of list are \",dir(lst))   # 3. dir() returns list of attributes & functions related to object data type\n",
    "\n",
    "\n",
    "\n",
    "print(\"Answer of divmod operation is \",divmod(23,3))   # 4. divmod() returns tuple of quotient & remainder as answer\n",
    "\n",
    "\n",
    "\n",
    "\n",
    "st={1,3,5,7}   # set decleared\n",
    "\n",
    "for index,num in enumerate(st,10):     # 5. enumerate(iterable_object,start_index) returns index & value in pair form \n",
    "\n",
    "    print(\"Index {0} has value {1}\".format(index,num))   # enumerate means to list\n",
    "    \n",
    "\n",
    "d={2,4,6,8,0}\n",
    "\n",
    "print(\"d variable is type of dictionary? \",isinstance(d,set))    # isinstance() checks whether that object belongs to that class or not;isinstance(iterable_object,type_of_object)\n",
    "\n",
    "# filter(),map() & reduce() avoid for loop so they are useful.."
   ]
  },
  {
   "cell_type": "code",
   "execution_count": 8,
   "metadata": {},
   "outputs": [
    {
     "name": "stdout",
     "output_type": "stream",
     "text": [
      "List is  [-10, -9, -8, -7, -6, -5, -4, -3, -2, -1, 0, 1, 2, 3, 4, 5, 6, 7, 8, 9]\n",
      "List of positive numbers using filter() is  [1, 2, 3, 4, 5, 6, 7, 8, 9]\n"
     ]
    }
   ],
   "source": [
    "# filter() constructs an iterator from iterable_object element & \"apply the function on each element individually\"\n",
    "\n",
    "# syntax - filter(function_name,iterable_object)\n",
    "\n",
    "# program to print positive no. from list using \"filter()\"\n",
    "\n",
    "def positive_no(num):\n",
    "    \n",
    "    if num>0:      # checks whether number is positive or not\n",
    "    \n",
    "        return num\n",
    "\n",
    "num_list=range(-10,10)     # create a list of numbers defined in range -10 to 10\n",
    "\n",
    "print(\"List is \",list(num_list))      # print numbers in list form\n",
    "\n",
    "positive_no_list=list(filter(positive_no,num_list))  # 6. filter() used with list() to sort positive numbers\n",
    "\n",
    "print(\"List of positive numbers using filter() is \",positive_no_list)    # print positive numbers in list form \n"
   ]
  },
  {
   "cell_type": "code",
   "execution_count": 9,
   "metadata": {},
   "outputs": [
    {
     "name": "stdout",
     "output_type": "stream",
     "text": [
      "List is  [1, 2, 3, 4]\n",
      "Squares of numbers in list are  [1, 4, 9, 16]\n"
     ]
    }
   ],
   "source": [
    "# map() applies a function to all elements of iterable_object(list/set/tuple) \"apply the function on each element individually\"\n",
    "\n",
    "# syntax - map(function_name,iterable_object)\n",
    "\n",
    "# program to print square of numbers in list using \"map()\"\n",
    "\n",
    "lst=[1,2,3,4]\n",
    "\n",
    "print(\"List is \",lst)\n",
    "\n",
    "def powerofnum(num):\n",
    "    \n",
    "    return num**2\n",
    "\n",
    "squares=list(map(powerofnum,lst))\n",
    "\n",
    "print(\"Squares of numbers in list are \",squares)\n"
   ]
  },
  {
   "cell_type": "code",
   "execution_count": 14,
   "metadata": {},
   "outputs": [
    {
     "name": "stdout",
     "output_type": "stream",
     "text": [
      "Set is  {1, 2, 3, 4}\n",
      "Product of elements using reduce is  24\n"
     ]
    }
   ],
   "source": [
    "# reduce() applies rolling computation to sequential pair of values in an iterable_object(list/set/tuple)\"applies the function from one element to other element consecutively(one after another without interruption)\"\n",
    "\n",
    "# syntax - reduce(function_name,iterable_object)\n",
    "\n",
    "# program to print product of all numbers in iterable_object using \"reduce\"\n",
    "\n",
    "from functools import reduce    # import reduce class \"functools is a module having reduce class\"\n",
    "\n",
    "st={1,2,3,4}\n",
    "\n",
    "print(\"Set is \",st)\n",
    "\n",
    "def product(x,y):\n",
    "    \n",
    "    return x*y\n",
    "\n",
    "ans=reduce(product,st)\n",
    "\n",
    "print(\"Product of elements using reduce is \",ans)"
   ]
  },
  {
   "cell_type": "code",
   "execution_count": null,
   "metadata": {},
   "outputs": [],
   "source": [
    "# Difference between map() and filter() \n",
    "\n",
    "# Map takes all objects in a list and allows you to apply a function to it, whereas  \n",
    "\n",
    "# Filter takes all objects in a list and runs that through a function to create a new list with all objects.\n",
    "\n",
    "# for python3 reduce is not built-in function, It's available in \"functools\" module."
   ]
  }
 ],
 "metadata": {
  "kernelspec": {
   "display_name": "Python 3",
   "language": "python",
   "name": "python3"
  },
  "language_info": {
   "codemirror_mode": {
    "name": "ipython",
    "version": 3
   },
   "file_extension": ".py",
   "mimetype": "text/x-python",
   "name": "python",
   "nbconvert_exporter": "python",
   "pygments_lexer": "ipython3",
   "version": "3.8.5"
  }
 },
 "nbformat": 4,
 "nbformat_minor": 4
}
