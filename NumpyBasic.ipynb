{
 "cells": [
  {
   "cell_type": "code",
   "execution_count": 1,
   "metadata": {},
   "outputs": [],
   "source": [
    "# Numpy package is mostly used for numerical & scientific computations.\n",
    "\n",
    "# Numpy has internally build list & dictionaries so we can perform mathematical computations easily.\n",
    "\n",
    "# Numpy provide extension for multidimensional arrays through lists.(1D array is like vector, 2D array is like matrix, 3D array is like cube where data is stored in each cell of cube)\n",
    "\n",
    "# Numpy provides array oriented computation.\n"
   ]
  },
  {
   "cell_type": "code",
   "execution_count": 1,
   "metadata": {},
   "outputs": [
    {
     "name": "stdout",
     "output_type": "stream",
     "text": [
      "Numpy Array is  [1 2 3 4]\n"
     ]
    }
   ],
   "source": [
    "# Creating array using array() function\n",
    "\n",
    "import numpy as np      # package import with alias name \"np\"\n",
    "\n",
    "a=np.array([1,2,3,4])    # array() function used to create array by passing list \n",
    "\n",
    "print(\"Numpy Array is \",a)\n"
   ]
  },
  {
   "cell_type": "code",
   "execution_count": null,
   "metadata": {},
   "outputs": [],
   "source": []
  },
  {
   "cell_type": "raw",
   "metadata": {},
   "source": []
  },
  {
   "cell_type": "code",
   "execution_count": 7,
   "metadata": {},
   "outputs": [
    {
     "name": "stdout",
     "output_type": "stream",
     "text": [
      "Numpy array is  [ 0  1  2  3  4  5  6  7  8  9 10]\n"
     ]
    }
   ],
   "source": [
    "# Creating array using arange() function\n",
    "\n",
    "print(\"Numpy array is \",np.arange(11))    # create array ranges between 0 to 10\n"
   ]
  },
  {
   "cell_type": "code",
   "execution_count": 8,
   "metadata": {},
   "outputs": [
    {
     "name": "stdout",
     "output_type": "stream",
     "text": [
      "235 µs ± 1.65 µs per loop (mean ± std. dev. of 7 runs, 1000 loops each)\n"
     ]
    }
   ],
   "source": [
    "# Python list - takes more time \n",
    "\n",
    "l=range(1000)\n",
    "\n",
    "%timeit [i**2 for i in l]    # measures how much time it took per iteration\n"
   ]
  },
  {
   "cell_type": "code",
   "execution_count": 9,
   "metadata": {},
   "outputs": [
    {
     "name": "stdout",
     "output_type": "stream",
     "text": [
      "913 ns ± 7.21 ns per loop (mean ± std. dev. of 7 runs, 1000000 loops each)\n"
     ]
    }
   ],
   "source": [
    "# Python numpy - \n",
    "\n",
    "a=np.arange(1000)\n",
    "\n",
    "%timeit a**2\n"
   ]
  },
  {
   "cell_type": "code",
   "execution_count": 15,
   "metadata": {},
   "outputs": [
    {
     "data": {
      "text/plain": [
       "4"
      ]
     },
     "execution_count": 15,
     "metadata": {},
     "output_type": "execute_result"
    }
   ],
   "source": [
    "# Creatig one dimensional array - also called as vector\n",
    "\n",
    "a=np.array([1,2,3,4])\n",
    "\n",
    "a     # print array\n",
    "\n",
    "a.ndim      # print dimension of array\n",
    "\n",
    "a.shape    # print shape or size of array\n",
    "\n",
    "len(a)     # shows how many elements are there in array\n"
   ]
  },
  {
   "cell_type": "code",
   "execution_count": 26,
   "metadata": {},
   "outputs": [
    {
     "data": {
      "text/plain": [
       "2"
      ]
     },
     "execution_count": 26,
     "metadata": {},
     "output_type": "execute_result"
    }
   ],
   "source": [
    "# Creating two dimensional array - also called as matrix\n",
    "\n",
    "ta=np.array([[1,2,3],[4,5,6]])   # pass elements thorugh list within list\n",
    "\n",
    "ta\n",
    "\n",
    "ta.ndim       # print dimensions\n",
    "\n",
    "ta.shape      # print rows & columns of array i.e. 2 row,3 column\n",
    "\n",
    "len(ta)       # In 2D/3D len() returns size of first dimension i.e. row\n"
   ]
  },
  {
   "cell_type": "code",
   "execution_count": 30,
   "metadata": {},
   "outputs": [
    {
     "data": {
      "text/plain": [
       "2"
      ]
     },
     "execution_count": 30,
     "metadata": {},
     "output_type": "execute_result"
    }
   ],
   "source": [
    "# Creating three dimensional array - also called as tensor\n",
    "\n",
    "tha=np.array([[[0,1],[2,3]],[[4,5],[6,7]]])\n",
    "\n",
    "tha\n",
    "\n",
    "tha.ndim     # print dimensions\n",
    "\n",
    "tha.shape    # print length,breadth,depth of array\n",
    "\n",
    "len(tha)     # In 2D/3D len() returns size of first dimension i.e. row\n"
   ]
  },
  {
   "cell_type": "code",
   "execution_count": 32,
   "metadata": {},
   "outputs": [
    {
     "data": {
      "text/plain": [
       "array([1, 3, 5, 7, 9])"
      ]
     },
     "execution_count": 32,
     "metadata": {},
     "output_type": "execute_result"
    }
   ],
   "source": [
    "# Function for creating arrays -\n",
    "\n",
    "# 1. arange() - It's an array valued version of built-in range() function.\n",
    "\n",
    "q=np.arange(10)\n",
    "\n",
    "q\n",
    "\n",
    "\n",
    "# arange() with step size i.e. - arange(start_value,end_value,step_size) \"here end value is exclusive means less then\"\n",
    "\n",
    "z=np.arange(1,10,2)     # print array of odd number\n",
    "\n",
    "z\n"
   ]
  },
  {
   "cell_type": "code",
   "execution_count": 10,
   "metadata": {},
   "outputs": [
    {
     "data": {
      "text/plain": [
       "array([0. , 0.2, 0.4, 0.6, 0.8, 1. ])"
      ]
     },
     "execution_count": 10,
     "metadata": {},
     "output_type": "execute_result"
    }
   ],
   "source": [
    "# 2. linspace() - means linear space,used for breaking-up the region into equal space\n",
    "\n",
    "x=np.linspace(0,1,6)   # linspace(start,end,no.of points), region starts from 0 & ends 1 so it divide this into 6 equal parts\n",
    "\n",
    "x"
   ]
  },
  {
   "cell_type": "code",
   "execution_count": 12,
   "metadata": {},
   "outputs": [
    {
     "data": {
      "text/plain": [
       "array([[1., 1., 1.],\n",
       "       [1., 1., 1.]])"
      ]
     },
     "execution_count": 12,
     "metadata": {},
     "output_type": "execute_result"
    }
   ],
   "source": [
    "# 3. ones() - create array of value \"one\",but pass value through tuple\n",
    "\n",
    "o=np.ones((2,2))\n",
    "\n",
    "o\n"
   ]
  },
  {
   "cell_type": "code",
   "execution_count": 14,
   "metadata": {},
   "outputs": [
    {
     "data": {
      "text/plain": [
       "array([[0., 0., 0.],\n",
       "       [0., 0., 0.],\n",
       "       [0., 0., 0.]])"
      ]
     },
     "execution_count": 14,
     "metadata": {},
     "output_type": "execute_result"
    }
   ],
   "source": [
    "# 4. zeros() - create array of value \"zero\",but pass value through tuple\n",
    "\n",
    "w=np.zeros((3,3))\n",
    "\n",
    "w\n"
   ]
  },
  {
   "cell_type": "code",
   "execution_count": 20,
   "metadata": {},
   "outputs": [
    {
     "data": {
      "text/plain": [
       "array([[1., 0.],\n",
       "       [0., 1.]])"
      ]
     },
     "execution_count": 20,
     "metadata": {},
     "output_type": "execute_result"
    }
   ],
   "source": [
    "# 5. eye() - create identity matrix whose diagonal (i.e. top left to bottom right) elements are 1\n",
    "\n",
    "I=np.eye(3)\n",
    "\n",
    "I\n",
    "\n",
    "i=np.eye(2)\n",
    "\n",
    "i"
   ]
  },
  {
   "cell_type": "code",
   "execution_count": 21,
   "metadata": {},
   "outputs": [
    {
     "data": {
      "text/plain": [
       "array([1, 2, 3, 4])"
      ]
     },
     "execution_count": 21,
     "metadata": {},
     "output_type": "execute_result"
    }
   ],
   "source": [
    "# 6. diag() - create diagonal matrix whose diagonal elements are defined by user.\n",
    "\n",
    "d=np.diag((1,2,3,4))\n",
    "\n",
    "d\n",
    "\n",
    "np.diag(d)    # extract diagonal element only\n"
   ]
  },
  {
   "cell_type": "code",
   "execution_count": 23,
   "metadata": {},
   "outputs": [
    {
     "data": {
      "text/plain": [
       "array([-0.07240304,  1.63999608, -1.2948085 ])"
      ]
     },
     "execution_count": 23,
     "metadata": {},
     "output_type": "execute_result"
    }
   ],
   "source": [
    "# 7. rand() - It's available in \"random\" module of numpy package, which create array through random values\n",
    "\n",
    "r=np.random.rand(3)\n",
    "\n",
    "r     # It prints uniform distributed random number\n",
    "\n",
    "\n",
    "R=np.random.randn(3)     # randn stands for random normal\n",
    "\n",
    "R      # It prints standard normal variant number / gausion distributed \n"
   ]
  },
  {
   "cell_type": "code",
   "execution_count": 3,
   "metadata": {},
   "outputs": [
    {
     "data": {
      "text/plain": [
       "array([ 0.,  1.,  2.,  3.,  4.,  5.,  6.,  7.,  8.,  9., 10.])"
      ]
     },
     "execution_count": 3,
     "metadata": {},
     "output_type": "execute_result"
    }
   ],
   "source": [
    "# Numpy basic Data-Type\n",
    "\n",
    "# a) dtype - prints for datatype of variable.\n",
    "\n",
    "g=np.arange(1,6)\n",
    "\n",
    "g.dtype\n",
    "\n",
    "\n",
    "# you can explicitly specify data type which you want using \"dtype\" parameter to arange() function.\n",
    "\n",
    "G=np.arange(11,dtype='float64')\n",
    "\n",
    "G\n",
    "\n",
    "# for zeros() & ones() the default data type is float."
   ]
  },
  {
   "cell_type": "markdown",
   "metadata": {},
   "source": []
  },
  {
   "cell_type": "code",
   "execution_count": 6,
   "metadata": {},
   "outputs": [
    {
     "data": {
      "text/plain": [
       "dtype('complex128')"
      ]
     },
     "execution_count": 6,
     "metadata": {},
     "output_type": "execute_result"
    }
   ],
   "source": [
    "# b) complex - \n",
    "\n",
    "c=np.array([1+2j,2+4j])\n",
    "\n",
    "c.dtype"
   ]
  },
  {
   "cell_type": "code",
   "execution_count": 8,
   "metadata": {},
   "outputs": [
    {
     "data": {
      "text/plain": [
       "dtype('bool')"
      ]
     },
     "execution_count": 8,
     "metadata": {},
     "output_type": "execute_result"
    }
   ],
   "source": [
    "# c) boolean - \n",
    "\n",
    "b=np.array([True,False,False,True])\n",
    "\n",
    "b.dtype"
   ]
  },
  {
   "cell_type": "code",
   "execution_count": 10,
   "metadata": {},
   "outputs": [
    {
     "data": {
      "text/plain": [
       "dtype('<U3')"
      ]
     },
     "execution_count": 10,
     "metadata": {},
     "output_type": "execute_result"
    }
   ],
   "source": [
    "# d) string - \n",
    "\n",
    "s= np.array(['abc','def','ghi','jkl'])\n",
    "\n",
    "s.dtype"
   ]
  },
  {
   "cell_type": "code",
   "execution_count": 19,
   "metadata": {},
   "outputs": [
    {
     "name": "stdout",
     "output_type": "stream",
     "text": [
      "[0 1 2 3 4 5 6 7 8 9]\n"
     ]
    },
    {
     "data": {
      "text/plain": [
       "2"
      ]
     },
     "execution_count": 19,
     "metadata": {},
     "output_type": "execute_result"
    }
   ],
   "source": [
    "# Indexing & Slicing -\n",
    "\n",
    "# A) Indexing -\n",
    "\n",
    "idx=np.arange(10)\n",
    "\n",
    "print(idx)\n",
    "\n",
    "idx[2]     # element access using perticular index from 1-D array\n"
   ]
  },
  {
   "cell_type": "code",
   "execution_count": 22,
   "metadata": {},
   "outputs": [
    {
     "data": {
      "text/plain": [
       "2"
      ]
     },
     "execution_count": 22,
     "metadata": {},
     "output_type": "execute_result"
    }
   ],
   "source": [
    "# for multidimensional array,indexes are tuple of integers.\n",
    "\n",
    "dig=np.diag([1,2,3])\n",
    "\n",
    "dig[1,1]    \n"
   ]
  },
  {
   "cell_type": "code",
   "execution_count": 23,
   "metadata": {},
   "outputs": [
    {
     "data": {
      "text/plain": [
       "array([[1, 0, 0],\n",
       "       [0, 2, 0],\n",
       "       [0, 5, 3]])"
      ]
     },
     "execution_count": 23,
     "metadata": {},
     "output_type": "execute_result"
    }
   ],
   "source": [
    "# Assigning value to array\n",
    "\n",
    "dig[2,1]=5\n",
    "\n",
    "dig"
   ]
  },
  {
   "cell_type": "code",
   "execution_count": 24,
   "metadata": {},
   "outputs": [
    {
     "data": {
      "text/plain": [
       "array([1, 3, 5, 7, 9])"
      ]
     },
     "execution_count": 24,
     "metadata": {},
     "output_type": "execute_result"
    }
   ],
   "source": [
    "# B) Slicing - \n",
    "\n",
    "sl=np.arange(10)\n",
    "\n",
    "sl[1:10:2]     # \":\" used for slicing\n"
   ]
  },
  {
   "cell_type": "code",
   "execution_count": 26,
   "metadata": {},
   "outputs": [
    {
     "data": {
      "text/plain": [
       "array([ 0,  1,  2,  3,  4, 10, 10, 10, 10, 10])"
      ]
     },
     "execution_count": 26,
     "metadata": {},
     "output_type": "execute_result"
    }
   ],
   "source": [
    "# combine assignment & slicing\n",
    "\n",
    "sa=np.arange(10)\n",
    "\n",
    "sa[5:]=10     # slicing starts onwards 5 till end & value assign is 10\n",
    "\n",
    "sa\n"
   ]
  },
  {
   "cell_type": "code",
   "execution_count": 28,
   "metadata": {},
   "outputs": [
    {
     "data": {
      "text/plain": [
       "array([0, 1, 2, 3, 4, 4, 3, 2, 1, 0])"
      ]
     },
     "execution_count": 28,
     "metadata": {},
     "output_type": "execute_result"
    }
   ],
   "source": [
    "sa1=np.arange(5)\n",
    "\n",
    "sa[5:]=sa1[::-1]\n",
    "\n",
    "sa"
   ]
  },
  {
   "cell_type": "code",
   "execution_count": 2,
   "metadata": {},
   "outputs": [
    {
     "data": {
      "text/plain": [
       "array([0, 1, 2, 3, 4, 5, 6, 7, 8, 9])"
      ]
     },
     "execution_count": 2,
     "metadata": {},
     "output_type": "execute_result"
    }
   ],
   "source": [
    "# Copies & Views - slicing operation create a view on array so the original array is not copied on memory, its just a way of accessing array data.\n",
    "\n",
    "# * view - when we modify a view, the original array gets modified too.\n",
    "\n",
    "t=np.arange(10)\n",
    "\n",
    "t"
   ]
  },
  {
   "cell_type": "code",
   "execution_count": 3,
   "metadata": {},
   "outputs": [
    {
     "data": {
      "text/plain": [
       "array([0, 2, 4, 6, 8])"
      ]
     },
     "execution_count": 3,
     "metadata": {},
     "output_type": "execute_result"
    }
   ],
   "source": [
    "v=t[::2]     # through slicing view created\n",
    "\n",
    "v     # \"v\" is sub-array of \"t\""
   ]
  },
  {
   "cell_type": "code",
   "execution_count": 4,
   "metadata": {},
   "outputs": [
    {
     "data": {
      "text/plain": [
       "True"
      ]
     },
     "execution_count": 4,
     "metadata": {},
     "output_type": "execute_result"
    }
   ],
   "source": [
    "np.shares_memory(t,v)    # used to check memory is shareable or not"
   ]
  },
  {
   "cell_type": "code",
   "execution_count": 5,
   "metadata": {},
   "outputs": [
    {
     "name": "stdout",
     "output_type": "stream",
     "text": [
      "140469471618352\n",
      "140469475527536\n"
     ]
    }
   ],
   "source": [
    "print(id(t))\n",
    "\n",
    "print(id(v))\n",
    "\n",
    "# although there address is different"
   ]
  },
  {
   "cell_type": "code",
   "execution_count": 4,
   "metadata": {},
   "outputs": [
    {
     "data": {
      "text/plain": [
       "True"
      ]
     },
     "execution_count": 4,
     "metadata": {},
     "output_type": "execute_result"
    }
   ],
   "source": [
    "\n",
    "np.may_share_memory(t,v)    # used to check if two array shares same memory block\n"
   ]
  },
  {
   "cell_type": "code",
   "execution_count": 5,
   "metadata": {},
   "outputs": [
    {
     "data": {
      "text/plain": [
       "array([10,  2,  4,  6,  8])"
      ]
     },
     "execution_count": 5,
     "metadata": {},
     "output_type": "execute_result"
    }
   ],
   "source": [
    "# modifing element of sub array\n",
    "\n",
    "v[0]=10     \n",
    "\n",
    "v"
   ]
  },
  {
   "cell_type": "code",
   "execution_count": 6,
   "metadata": {},
   "outputs": [
    {
     "data": {
      "text/plain": [
       "array([10,  1,  2,  3,  4,  5,  6,  7,  8,  9])"
      ]
     },
     "execution_count": 6,
     "metadata": {},
     "output_type": "execute_result"
    }
   ],
   "source": [
    "# even we modify 2nd array,it update 1st array because they share same memory\n",
    "\n",
    "t           # main array gets modified too"
   ]
  },
  {
   "cell_type": "code",
   "execution_count": 7,
   "metadata": {},
   "outputs": [
    {
     "data": {
      "text/plain": [
       "array([ 0,  1,  2,  3,  4,  5,  6,  7,  8,  9, 10])"
      ]
     },
     "execution_count": 7,
     "metadata": {},
     "output_type": "execute_result"
    }
   ],
   "source": [
    "# * copy - use copy() to force copy\n",
    "\n",
    "i=np.arange(11)\n",
    "\n",
    "i"
   ]
  },
  {
   "cell_type": "code",
   "execution_count": 10,
   "metadata": {},
   "outputs": [
    {
     "data": {
      "text/plain": [
       "array([0, 3, 6, 9])"
      ]
     },
     "execution_count": 10,
     "metadata": {},
     "output_type": "execute_result"
    }
   ],
   "source": [
    "# creating sub-array \n",
    "\n",
    "j=i[::3].copy()\n",
    "\n",
    "j"
   ]
  },
  {
   "cell_type": "code",
   "execution_count": 11,
   "metadata": {},
   "outputs": [
    {
     "data": {
      "text/plain": [
       "False"
      ]
     },
     "execution_count": 11,
     "metadata": {},
     "output_type": "execute_result"
    }
   ],
   "source": [
    "np.may_share_memory(i,j)    # because i & j points to different locations"
   ]
  },
  {
   "cell_type": "code",
   "execution_count": 12,
   "metadata": {},
   "outputs": [
    {
     "data": {
      "text/plain": [
       "array([11,  3,  6,  9])"
      ]
     },
     "execution_count": 12,
     "metadata": {},
     "output_type": "execute_result"
    }
   ],
   "source": [
    "# modifing j\n",
    "\n",
    "j[0]=11\n",
    "\n",
    "j"
   ]
  },
  {
   "cell_type": "code",
   "execution_count": 13,
   "metadata": {},
   "outputs": [
    {
     "data": {
      "text/plain": [
       "array([ 0,  1,  2,  3,  4,  5,  6,  7,  8,  9, 10])"
      ]
     },
     "execution_count": 13,
     "metadata": {},
     "output_type": "execute_result"
    }
   ],
   "source": [
    "i    # copy will not affect the original array"
   ]
  },
  {
   "cell_type": "code",
   "execution_count": 14,
   "metadata": {},
   "outputs": [
    {
     "data": {
      "text/plain": [
       "array([ 9, 13, 12,  2, 11,  3,  4, 14, 19, 19,  2,  7, 12, 17, 11])"
      ]
     },
     "execution_count": 14,
     "metadata": {},
     "output_type": "execute_result"
    }
   ],
   "source": [
    "# Numpy arrays can be indexed with slices also with boolean,integers too called \"masks\" ,this method is called as fancy indexing.\n",
    "\n",
    "# fancy indexing i.e. mask creates copies not views.\n",
    "\n",
    "# 1. boolean mask - \n",
    "\n",
    "fi=np.random.randint(0,20,15)     # another way of creating random numbers, syntax(start,end,no_count)\n",
    "\n",
    "fi     # prints array having 15 numbers only ranges from 0 to 20 randomly\n"
   ]
  },
  {
   "cell_type": "code",
   "execution_count": 15,
   "metadata": {},
   "outputs": [
    {
     "data": {
      "text/plain": [
       "array([12,  2,  4, 14,  2, 12])"
      ]
     },
     "execution_count": 15,
     "metadata": {},
     "output_type": "execute_result"
    }
   ],
   "source": [
    "mask=(fi%2==0)     # boolean expression assigned\n",
    "\n",
    "read_fi=fi[mask]    # evaluate mask\n",
    "\n",
    "read_fi"
   ]
  },
  {
   "cell_type": "code",
   "execution_count": 16,
   "metadata": {},
   "outputs": [
    {
     "data": {
      "text/plain": [
       "array([ 9, 13, -1, -1, 11,  3, -1, -1, 19, 19, -1,  7, -1, 17, 11])"
      ]
     },
     "execution_count": 16,
     "metadata": {},
     "output_type": "execute_result"
    }
   ],
   "source": [
    "# 2. indexing with mask can be useful to assign new value for sub-array\n",
    "\n",
    "fi[mask]=-1     # all even numbers became equals to -1\n",
    "\n",
    "fi"
   ]
  },
  {
   "cell_type": "code",
   "execution_count": 20,
   "metadata": {},
   "outputs": [
    {
     "data": {
      "text/plain": [
       "array([ 0, 10, 20, 30, 40, 50, 60, 70, 80, 90])"
      ]
     },
     "execution_count": 20,
     "metadata": {},
     "output_type": "execute_result"
    }
   ],
   "source": [
    "# 3. indexing with an array of integers\n",
    "\n",
    "k=np.arange(0,100,10)      # (strat,end,step_size)\n",
    "\n",
    "k\n"
   ]
  },
  {
   "cell_type": "code",
   "execution_count": 21,
   "metadata": {},
   "outputs": [
    {
     "data": {
      "text/plain": [
       "array([20, 60, 90, 30, 20])"
      ]
     },
     "execution_count": 21,
     "metadata": {},
     "output_type": "execute_result"
    }
   ],
   "source": [
    "# perticular array elements accessed using index\n",
    "\n",
    "k[[2,6,9,3,2]]   # pass list within list\n"
   ]
  },
  {
   "cell_type": "code",
   "execution_count": 24,
   "metadata": {},
   "outputs": [
    {
     "data": {
      "text/plain": [
       "array([ 1, 10, 20, 30, 40, 50, 60, 70, 80,  1])"
      ]
     },
     "execution_count": 24,
     "metadata": {},
     "output_type": "execute_result"
    }
   ],
   "source": [
    "# value changed of array element using index\n",
    "\n",
    "k[[0,9]]=1   # It take list within list\n",
    "\n",
    "k"
   ]
  },
  {
   "cell_type": "code",
   "execution_count": null,
   "metadata": {},
   "outputs": [],
   "source": []
  }
 ],
 "metadata": {
  "kernelspec": {
   "display_name": "Python 3",
   "language": "python",
   "name": "python3"
  },
  "language_info": {
   "codemirror_mode": {
    "name": "ipython",
    "version": 3
   },
   "file_extension": ".py",
   "mimetype": "text/x-python",
   "name": "python",
   "nbconvert_exporter": "python",
   "pygments_lexer": "ipython3",
   "version": "3.8.5"
  }
 },
 "nbformat": 4,
 "nbformat_minor": 4
}
