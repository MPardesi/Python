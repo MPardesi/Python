{
 "cells": [
  {
   "cell_type": "code",
   "execution_count": 1,
   "metadata": {},
   "outputs": [
    {
     "name": "stdout",
     "output_type": "stream",
     "text": [
      "string is  Hi Macbook..\n",
      "string related methods and attribute are  ['__add__', '__class__', '__contains__', '__delattr__', '__dir__', '__doc__', '__eq__', '__format__', '__ge__', '__getattribute__', '__getitem__', '__getnewargs__', '__gt__', '__hash__', '__init__', '__init_subclass__', '__iter__', '__le__', '__len__', '__lt__', '__mod__', '__mul__', '__ne__', '__new__', '__reduce__', '__reduce_ex__', '__repr__', '__rmod__', '__rmul__', '__setattr__', '__sizeof__', '__str__', '__subclasshook__', 'capitalize', 'casefold', 'center', 'count', 'encode', 'endswith', 'expandtabs', 'find', 'format', 'format_map', 'index', 'isalnum', 'isalpha', 'isascii', 'isdecimal', 'isdigit', 'isidentifier', 'islower', 'isnumeric', 'isprintable', 'isspace', 'istitle', 'isupper', 'join', 'ljust', 'lower', 'lstrip', 'maketrans', 'partition', 'replace', 'rfind', 'rindex', 'rjust', 'rpartition', 'rsplit', 'rstrip', 'split', 'splitlines', 'startswith', 'strip', 'swapcase', 'title', 'translate', 'upper', 'zfill']\n",
      "string repeation is  Hi Macbook..Hi Macbook..Hi Macbook..Hi Macbook..\n",
      "string concatination is  Hi Macbook..This is jupyter\n",
      "membership test of string is  True\n"
     ]
    }
   ],
   "source": [
    "# String Operations\n",
    "\n",
    "str=\"Hi Macbook..\"    # string create\n",
    "\n",
    "print(\"string is \",str)\n",
    "\n",
    "print(\"string related methods and attribute are \",dir(str))     # string related methods and attributes using dir()\n",
    "\n",
    "\n",
    "print(\"string repeation is \",str*4)      # repeat string 4 times\n",
    "\n",
    "\n",
    "str1=\"This is jupyter\"\n",
    "\n",
    "print(\"string concatination is \",str+str1)    # string concatination using \"+\" operator\n",
    "\n",
    "\n",
    "print(\"membership test of string is \",'i' in str1)    # membership test using \"in\" operator\n",
    "\n"
   ]
  },
  {
   "cell_type": "code",
   "execution_count": null,
   "metadata": {},
   "outputs": [],
   "source": []
  }
 ],
 "metadata": {
  "kernelspec": {
   "display_name": "Python 3",
   "language": "python",
   "name": "python3"
  },
  "language_info": {
   "codemirror_mode": {
    "name": "ipython",
    "version": 3
   },
   "file_extension": ".py",
   "mimetype": "text/x-python",
   "name": "python",
   "nbconvert_exporter": "python",
   "pygments_lexer": "ipython3",
   "version": "3.8.5"
  }
 },
 "nbformat": 4,
 "nbformat_minor": 4
}
