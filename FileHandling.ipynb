{
 "cells": [
  {
   "cell_type": "code",
   "execution_count": 1,
   "metadata": {},
   "outputs": [],
   "source": [
    "# Packages - Grouping modules in one folder is known as package.\n",
    "\n",
    "# Package contain sub-package & every sub package must have \"_ _init_ _.py\" file.\n",
    "\n",
    "# Package should have \"_ _init_ _.py\" file, it can be empty but usually initialization code for package is placed within this file.\n"
   ]
  },
  {
   "cell_type": "code",
   "execution_count": 6,
   "metadata": {},
   "outputs": [],
   "source": [
    "# File Handling\n",
    "\n",
    "# Opening a file - open() built-in function, opens new file in current directory\n",
    "\n",
    "f=open(\"Module.ipynb\")\n",
    "\n",
    "# Closing a file - close() built-in function, free up resources tied with file\n",
    "\n",
    "f.close(\"Module.ipynb\")"
   ]
  },
  {
   "cell_type": "code",
   "execution_count": 7,
   "metadata": {},
   "outputs": [],
   "source": [
    "# Python file modes -\n",
    "\n",
    "# r - read(default), w - write, a - append, t - text(default), b - binary, x - exclusive creation, \"+\" - for updating(read & write)\n",
    "\n",
    "file=open(\"abc.txt\",\"w\")    # it will create new file and add contents to it.\n",
    "\n",
    "file.write(\"This is abc file\")\n",
    "\n",
    "file.write(\"Having extension txt\")\n",
    "\n",
    "file.close()"
   ]
  },
  {
   "cell_type": "code",
   "execution_count": 6,
   "metadata": {},
   "outputs": [
    {
     "data": {
      "text/plain": [
       "'This is abc file \\nHaving extension txt \\n'"
      ]
     },
     "execution_count": 6,
     "metadata": {},
     "output_type": "execute_result"
    }
   ],
   "source": [
    "# Reading file\n",
    "\n",
    "f=open(\"abc.txt\",\"r\")\n",
    "\n",
    "f.read()\n"
   ]
  },
  {
   "cell_type": "code",
   "execution_count": 13,
   "metadata": {},
   "outputs": [
    {
     "name": "stdout",
     "output_type": "stream",
     "text": [
      "This is abc file \n",
      "Having extension txt \n",
      "\n"
     ]
    }
   ],
   "source": [
    "# Reading file - method & option\n",
    "\n",
    "f=open(\"abc.txt\",\"r\")\n",
    "\n",
    "f.read(4)    # prints word upto 4th position\n",
    "\n",
    "f.tell()    # tells current location of cursor\n",
    "\n",
    "f.seek(0)    # bring file cursor to initial position\n",
    "\n",
    "print(f.read())    # print complete file\n"
   ]
  },
  {
   "cell_type": "code",
   "execution_count": 14,
   "metadata": {},
   "outputs": [
    {
     "name": "stdout",
     "output_type": "stream",
     "text": [
      "This is abc file \n",
      "\n",
      "Having extension txt \n",
      "\n"
     ]
    }
   ],
   "source": [
    "# Reading file line by line using for loop\n",
    "\n",
    "f=open(\"abc.txt\",\"r\")\n",
    "\n",
    "f.read()\n",
    "\n",
    "f.seek(0)\n",
    "\n",
    "for line in f:\n",
    "    \n",
    "    print(line)\n",
    "    "
   ]
  },
  {
   "cell_type": "code",
   "execution_count": 19,
   "metadata": {},
   "outputs": [
    {
     "data": {
      "text/plain": [
       "'This is abc file \\n'"
      ]
     },
     "execution_count": 19,
     "metadata": {},
     "output_type": "execute_result"
    }
   ],
   "source": [
    "# Reading file line by line using readline() method - read first line upto \"\\n\" and cursor stay there\n",
    "\n",
    "f=open(\"abc.txt\",\"r\")\n",
    "\n",
    "f.readline()\n"
   ]
  },
  {
   "cell_type": "code",
   "execution_count": 20,
   "metadata": {},
   "outputs": [
    {
     "data": {
      "text/plain": [
       "['This is abc file \\n', 'Having extension txt \\n']"
      ]
     },
     "execution_count": 20,
     "metadata": {},
     "output_type": "execute_result"
    }
   ],
   "source": [
    "# Reading file line by line using readlines() method - reads all the lines till end of file\n",
    "\n",
    "f=open(\"abc.txt\",\"r\")\n",
    "\n",
    "f.readlines()    # results as list of lines\n"
   ]
  },
  {
   "cell_type": "code",
   "execution_count": 21,
   "metadata": {},
   "outputs": [],
   "source": [
    "# Renaming and Deleting file - these operation supported \"os\" module\n",
    "\n",
    "import os\n",
    "\n",
    "os.rename(\"abc.txt\",\"demo.txt\")\n"
   ]
  },
  {
   "cell_type": "code",
   "execution_count": 22,
   "metadata": {},
   "outputs": [
    {
     "data": {
      "text/plain": [
       "['This is abc file \\n', 'Having extension txt \\n']"
      ]
     },
     "execution_count": 22,
     "metadata": {},
     "output_type": "execute_result"
    }
   ],
   "source": [
    "f=open(\"demo.txt\",\"r\")\n",
    "\n",
    "f.readlines()   "
   ]
  },
  {
   "cell_type": "code",
   "execution_count": null,
   "metadata": {},
   "outputs": [],
   "source": [
    "# Deleting file\n",
    "\n",
    "#os.remove(\"demo.txt\")"
   ]
  }
 ],
 "metadata": {
  "kernelspec": {
   "display_name": "Python 3",
   "language": "python",
   "name": "python3"
  },
  "language_info": {
   "codemirror_mode": {
    "name": "ipython",
    "version": 3
   },
   "file_extension": ".py",
   "mimetype": "text/x-python",
   "name": "python",
   "nbconvert_exporter": "python",
   "pygments_lexer": "ipython3",
   "version": "3.8.5"
  }
 },
 "nbformat": 4,
 "nbformat_minor": 4
}
