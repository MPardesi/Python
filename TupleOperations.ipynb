{
 "cells": [
  {
   "cell_type": "code",
   "execution_count": 1,
   "metadata": {},
   "outputs": [
    {
     "name": "stdout",
     "output_type": "stream",
     "text": [
      "nested tuple is  (1, 2, ('abc', 'xyz'), (7.8, 83.5), [3, 'pqr', 4.5])\n",
      "type of tuple is  <class 'tuple'>\n",
      "tuple element at positive index 2 is  ('abc', 'xyz')\n",
      "tuple element at negative index -1 is  [3, 'pqr', 4.5]\n",
      "nested tuple element at index 3 having position 1 is  83.5\n",
      "tuple slicing from 3 is  (1, 2, ('abc', 'xyz'))\n",
      "tuple slicing from -2 is ((7.8, 83.5), [3, 'pqr', 4.5])\n",
      "concatination is  (10, 9, 8, 7, 6, 5, 4, 3, 2, 1)\n",
      "tuple element with given number of time is  (123, 'go', 123, 'go', 123, 'go', 123, 'go')\n",
      "count of 3 is  2\n",
      "tuple element index is  3\n",
      "True\n",
      "length of tuple t is  9\n",
      "sorted tuple is  [1, 2, 3, 3, 5, 5, 7, 7, 8]\n",
      "largest element is  8\n",
      "smallest element is  1\n",
      "sum of element is  41\n"
     ]
    }
   ],
   "source": [
    "# Operation on tuple\n",
    "\n",
    "tpl=(1,2,('abc','xyz'),(7.8,83.5),[3,'pqr',4.5])  #1. nested tuple with list\n",
    "\n",
    "print(\"nested tuple is \",tpl)\n",
    "\n",
    "\n",
    "\n",
    "print(\"type of tuple is \",type(tpl))     #2. type of tuple\n",
    "\n",
    "\n",
    "print(\"tuple element at positive index 2 is \",tpl[2])    #3. accessing element using 2\n",
    "\n",
    "print(\"tuple element at negative index -1 is \",tpl[-1])  #4. accessing element using -1\n",
    "\n",
    "print(\"nested tuple element at index 3 having position 1 is \",tpl[3][1])    #5. accessing element from nested tuple\n",
    "\n",
    "\n",
    "print(\"tuple slicing from 3 is \",tpl[:3])     #6. tuple slicing  3\n",
    "\n",
    "print(\"tuple slicing from -2 is\",tpl[-2:])    #7. tuple slicing -2\n",
    "\n",
    "\n",
    "tpl1=(10,9,8,7,6)+(5,4,3,2,1)    #8. concatination of tuple using \"+\" operator\n",
    "\n",
    "print(\"concatination is \",tpl1)\n",
    "\n",
    "\n",
    "tpl2=((123,'go',)*4)    #9. repeat tuple element for given number of time using \"*\" operator\n",
    "\n",
    "print(\"tuple element with given number of time is \",tpl2)\n",
    "\n",
    "\n",
    "t=(1,2.5,'ok')     #10. delete entire tuple using \"del\" keyword\n",
    "\n",
    "del t\n",
    "\n",
    "\n",
    "t=(1,3,5,7,3,2,8,7,5)    #11. obtain number frequency using count() \n",
    "\n",
    "print(\"count of 3 is \",t.count(3))\n",
    "\n",
    "\n",
    "print(\"tuple element index is \",t.index(7))    #12. index of element using index()\n",
    "\n",
    "\n",
    "print(5 in t)     #13. check number exist or not using \"in\" keyword\n",
    "\n",
    "\n",
    "print(\"length of tuple t is \",len(t))     #14. length of tuple using len()\n",
    "\n",
    "\n",
    "newt=sorted(t)     #15. sorting tuple using sorted()\n",
    "\n",
    "print(\"sorted tuple is \",newt)\n",
    "\n",
    "\n",
    "print(\"largest element is \",max(t))     #16. find largest number using max()\n",
    "\n",
    "\n",
    "print(\"smallest element is \",min(t))    #17. find smallest number using min()\n",
    "\n",
    "\n",
    "print(\"sum of element is \",sum(t))      #18. addition of elements using sum()\n",
    "\n"
   ]
  },
  {
   "cell_type": "code",
   "execution_count": null,
   "metadata": {},
   "outputs": [],
   "source": []
  }
 ],
 "metadata": {
  "kernelspec": {
   "display_name": "Python 3",
   "language": "python",
   "name": "python3"
  },
  "language_info": {
   "codemirror_mode": {
    "name": "ipython",
    "version": 3
   },
   "file_extension": ".py",
   "mimetype": "text/x-python",
   "name": "python",
   "nbconvert_exporter": "python",
   "pygments_lexer": "ipython3",
   "version": "3.8.5"
  }
 },
 "nbformat": 4,
 "nbformat_minor": 4
}
