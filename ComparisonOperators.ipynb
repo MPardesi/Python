{
 "cells": [
  {
   "cell_type": "code",
   "execution_count": 1,
   "metadata": {},
   "outputs": [
    {
     "name": "stdout",
     "output_type": "stream",
     "text": [
      "True\n",
      "False\n",
      "False\n",
      "True\n",
      "True\n",
      "False\n"
     ]
    }
   ],
   "source": [
    "# Comparison operators \"returns true or false as ans\"\n",
    "\n",
    "a=55;b=45\n",
    "\n",
    "print(a>b)      # grester than\n",
    "\n",
    "print(a<b)      # less than\n",
    "\n",
    "print(a==b)     # equals to\n",
    "\n",
    "print(a!=b)     # not equal to\n",
    "\n",
    "print(a>=b)     # greater than equal to\n",
    "\n",
    "print(a<=b)     # less than equal to\n"
   ]
  },
  {
   "cell_type": "code",
   "execution_count": null,
   "metadata": {},
   "outputs": [],
   "source": []
  }
 ],
 "metadata": {
  "kernelspec": {
   "display_name": "Python 3",
   "language": "python",
   "name": "python3"
  },
  "language_info": {
   "codemirror_mode": {
    "name": "ipython",
    "version": 3
   },
   "file_extension": ".py",
   "mimetype": "text/x-python",
   "name": "python",
   "nbconvert_exporter": "python",
   "pygments_lexer": "ipython3",
   "version": "3.8.5"
  }
 },
 "nbformat": 4,
 "nbformat_minor": 4
}
