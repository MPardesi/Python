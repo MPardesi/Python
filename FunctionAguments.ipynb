{
 "cells": [
  {
   "cell_type": "code",
   "execution_count": 2,
   "metadata": {},
   "outputs": [
    {
     "name": "stdout",
     "output_type": "stream",
     "text": [
      "Greethings towards Sagar is Hello.. This is Macbook\n"
     ]
    }
   ],
   "source": [
    "# Function Arguments\n",
    "\n",
    "# Arguments are nothing but variables passed to function\n",
    "\n",
    "def greetings(name,msg):      # name and msg are arguments\n",
    "    \n",
    "    print(\"Greethings towards {0} is {1}\".format(name,msg))\n",
    "\n",
    "greetings(\"Sagar\",\"Hello.. This is Macbook\")    # values passed to function at calling stage"
   ]
  },
  {
   "cell_type": "code",
   "execution_count": 3,
   "metadata": {},
   "outputs": [
    {
     "name": "stdout",
     "output_type": "stream",
     "text": [
      "Greethings towards Sagar is Hello.. This is Macbook\n",
      "Greethings towards Sagar is Good Morning\n"
     ]
    }
   ],
   "source": [
    "# 1. default argument\n",
    "\n",
    "def greetings(name,msg=\"Good Morning\"):\n",
    "    \n",
    "    print(\"Greethings towards {0} is {1}\".format(name,msg))\n",
    "    \n",
    "greetings(\"Sagar\",\"Hello.. This is Macbook\")   # with msg argument \n",
    "\n",
    "greetings(\"Sagar\")     # without msg argument     \n"
   ]
  },
  {
   "cell_type": "code",
   "execution_count": 10,
   "metadata": {},
   "outputs": [
    {
     "name": "stdout",
     "output_type": "stream",
     "text": [
      "Message for Madhuri is to perform Coding task\n"
     ]
    }
   ],
   "source": [
    "# 2. Keyword Argument\n",
    "\n",
    "# **kwargs allows us to pass keyworded,variable-length argument list to function.\n",
    "\n",
    "# variable-length arguments is a feature that allows function to take any number of arguments.\n",
    "\n",
    "# **kwargs pass arguments in the form of a dictionary.\n",
    "\n",
    "# the double star (**) allows us to pass keyword through arguments.\n",
    "\n",
    "def msg(**kwargs):\n",
    "    \n",
    "        print(\"Message for {0} is to perform {1} task\".format(kwargs[\"name\"],kwargs[\"msg\"]))    # name & msg are keyworded variable\n",
    "\n",
    "msg(name=\"Madhuri\",msg=\"Coding\")   # function arguments are passed in form of dictionary \n"
   ]
  },
  {
   "cell_type": "code",
   "execution_count": 17,
   "metadata": {},
   "outputs": [
    {
     "name": "stdout",
     "output_type": "stream",
     "text": [
      "Hi sanyukta \n",
      "Hi mona \n",
      "Hi mani \n",
      "Hi meow \n"
     ]
    }
   ],
   "source": [
    "# Arbitory Arugument\n",
    "\n",
    "# *args allows us to pass a non-key worded, variable-length argument list to function. \n",
    "\n",
    "# variable-length arguments is a feature that allows function to take any number of arguments.\n",
    "\n",
    "# *args pass arguments in the form a tuple.\n",
    "\n",
    "# the single star (*) allows us to pass variable through argument.\n",
    "\n",
    "def notify(*name):\n",
    "\n",
    "    for n in name:\n",
    "    \n",
    "        print(\"Hi {0} \".format(n))\n",
    "        \n",
    "notify(\"sanyukta\",\"mona\",\"mani\",\"meow\")    # function arguments are passed in form of tuple\n"
   ]
  },
  {
   "cell_type": "code",
   "execution_count": null,
   "metadata": {},
   "outputs": [],
   "source": []
  }
 ],
 "metadata": {
  "kernelspec": {
   "display_name": "Python 3",
   "language": "python",
   "name": "python3"
  },
  "language_info": {
   "codemirror_mode": {
    "name": "ipython",
    "version": 3
   },
   "file_extension": ".py",
   "mimetype": "text/x-python",
   "name": "python",
   "nbconvert_exporter": "python",
   "pygments_lexer": "ipython3",
   "version": "3.8.5"
  }
 },
 "nbformat": 4,
 "nbformat_minor": 4
}
