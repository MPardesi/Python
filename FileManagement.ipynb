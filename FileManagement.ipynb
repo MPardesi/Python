{
 "cells": [
  {
   "cell_type": "code",
   "execution_count": 1,
   "metadata": {},
   "outputs": [
    {
     "data": {
      "text/plain": [
       "'/Users/sagarnaikele/Documents/My Python Learning/Modules'"
      ]
     },
     "execution_count": 1,
     "metadata": {},
     "output_type": "execute_result"
    }
   ],
   "source": [
    "# File managenent - methods\n",
    "\n",
    "# 1. getcwd() - returns current working directory in form of string\n",
    "\n",
    "import os\n",
    "\n",
    "os.getcwd()\n"
   ]
  },
  {
   "cell_type": "code",
   "execution_count": 6,
   "metadata": {},
   "outputs": [
    {
     "data": {
      "text/plain": [
       "'/Users/sagarnaikele/Documents'"
      ]
     },
     "execution_count": 6,
     "metadata": {},
     "output_type": "execute_result"
    }
   ],
   "source": [
    "# 2. chdir() - change current directory to another directory\n",
    "\n",
    "import os \n",
    "\n",
    "os.chdir('/Users/sagarnaikele/Documents/')\n",
    "\n",
    "os.getcwd()    # to check directory is changed or not"
   ]
  },
  {
   "cell_type": "code",
   "execution_count": 3,
   "metadata": {},
   "outputs": [
    {
     "data": {
      "text/plain": [
       "['Module.ipynb',\n",
       " 'demo.txt',\n",
       " 'Untitled.ipynb',\n",
       " 'FileHandling.ipynb',\n",
       " 'FileManagement.ipynb',\n",
       " '.ipynb_checkpoints']"
      ]
     },
     "execution_count": 3,
     "metadata": {},
     "output_type": "execute_result"
    }
   ],
   "source": [
    "# 3. listdir() -  shows all files & sub-directories inside a directories\n",
    "\n",
    "import os\n",
    "\n",
    "os.listdir('/Users/sagarnaikele/Documents/My Python Learning/Modules')"
   ]
  },
  {
   "cell_type": "code",
   "execution_count": 16,
   "metadata": {},
   "outputs": [],
   "source": [
    "# 4. mkdir() - create new directory, if new path is not given then it will create directory in current working directory\n",
    "\n",
    "import os\n",
    "\n",
    "os.mkdir('demo')    # create new directory\n"
   ]
  },
  {
   "cell_type": "code",
   "execution_count": 21,
   "metadata": {},
   "outputs": [
    {
     "data": {
      "text/plain": [
       "'/Users/sagarnaikele/Documents/My Python Learning/Modules'"
      ]
     },
     "execution_count": 21,
     "metadata": {},
     "output_type": "execute_result"
    }
   ],
   "source": [
    "# 5. rmdir() - only remove empty directory\n",
    "\n",
    "import os\n",
    "\n",
    "os.rmdir('demo')    # remove directory\n",
    "\n",
    "os.getcwd()    # to check directory deleted or not\n",
    "\n",
    "os.chdir('/Users/sagarnaikele/Documents/My Python Learning/Modules')   # change directory after removal\n",
    "\n",
    "os.getcwd()   # after removal check directory changed or not"
   ]
  },
  {
   "cell_type": "code",
   "execution_count": 24,
   "metadata": {},
   "outputs": [
    {
     "data": {
      "text/plain": [
       "'/Users/sagarnaikele/Documents/My Python Learning/Modules/hello'"
      ]
     },
     "execution_count": 24,
     "metadata": {},
     "output_type": "execute_result"
    }
   ],
   "source": [
    "# 6. rmtree() - It  remove non-empty directory available in \"shutil\" module\n",
    "\n",
    "# ./ - indicates current directory\n",
    "\n",
    "# ../ - indicates parent directory of current directory\n",
    "\n",
    "# shutil stands for shell utils\n",
    "\n",
    "import shutil\n",
    "\n",
    "os.mkdir('hello')      # create new directory in current directory\n",
    "\n",
    "os.chdir('./hello')    # change directory to new directory\n",
    "\n",
    "o=open(\"hello.txt\",\"w\")     # text file create in new directory\n",
    "\n",
    "o.write(\"Hello Mac is here\")   # add content to file\n",
    "\n",
    "os.chdir('../') \n",
    "\n",
    "shutil.rmtree('hello')     # remove directory including file\n",
    "\n",
    "os.getcwd()"
   ]
  },
  {
   "cell_type": "code",
   "execution_count": null,
   "metadata": {},
   "outputs": [],
   "source": []
  }
 ],
 "metadata": {
  "kernelspec": {
   "display_name": "Python 3",
   "language": "python",
   "name": "python3"
  },
  "language_info": {
   "codemirror_mode": {
    "name": "ipython",
    "version": 3
   },
   "file_extension": ".py",
   "mimetype": "text/x-python",
   "name": "python",
   "nbconvert_exporter": "python",
   "pygments_lexer": "ipython3",
   "version": "3.8.5"
  }
 },
 "nbformat": 4,
 "nbformat_minor": 4
}
