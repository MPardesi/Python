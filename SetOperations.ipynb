{
 "cells": [
  {
   "cell_type": "code",
   "execution_count": 1,
   "metadata": {},
   "outputs": [
    {
     "name": "stdout",
     "output_type": "stream",
     "text": [
      "union of set is  {1, 2, 3, 4, 5, 6, 7}\n",
      "union is  {1, 2, 3, 4, 5, 6, 7}\n",
      "intersection of set is  {3, 4, 5}\n",
      "intersectioin is  {3, 4, 5}\n",
      "set difference of set is {1, 2}\n",
      "set difference is  {1, 2}\n",
      "symmetric difference of set is  {1, 2, 6, 7}\n",
      "symmetric difference is  {1, 2, 6, 7}\n",
      "a is subset of b ? False\n",
      "b is subset if a ? True\n",
      "union of frozenset is  frozenset({1, 2, 3, 4, 5})\n",
      "intersection of frozenset is  frozenset({3})\n",
      "set difference of frozenset is frozenset({1, 2})\n",
      "symmetric difference of frozenset is frozenset({1, 2, 4, 5})\n",
      "frset2 is subset of freset1 ? False\n"
     ]
    }
   ],
   "source": [
    "# Set Operations\n",
    "\n",
    "set1={1,2,3,4,5}\n",
    "\n",
    "set2={3,4,5,6,7}\n",
    "\n",
    "print(\"union of set is \",set1|set2)    # union using \"|\" or operator\n",
    "\n",
    "print(\"union is \",set1.union(set2))    # union using union() method\n",
    "\n",
    "\n",
    "print(\"intersection of set is \",set1&set2)    # intersection using \"&\" and operator\n",
    "\n",
    "print(\"intersectioin is \",set1.intersection(set2))    # intersection using intersection() method\n",
    "\n",
    "\n",
    "print(\"set difference of set is\",set1-set2)    # set difference using \"-\" minus operator\n",
    "\n",
    "print(\"set difference is \",set1.difference(set2))     # set difference using difference() method\n",
    "\n",
    "\n",
    "print(\"symmetric difference of set is \",set1^set2)    # symmetric difference using \"^\" exponent operator\n",
    "\n",
    "print(\"symmetric difference is \",set1.symmetric_difference(set2))    # using symmetric_difference() method\n",
    "\n",
    "\n",
    "#8. subset using issubset() method\n",
    "\n",
    "\n",
    "a={'aa','bb','cc','dd'}\n",
    "\n",
    "b={'bb','dd'}\n",
    "\n",
    "print(\"a is subset of b ?\",a.issubset(b))\n",
    "\n",
    "print(\"b is subset if a ?\",b.issubset(a))\n",
    "\n",
    "\n",
    "#9. Frozenset using frozenset() method\n",
    "\n",
    "\n",
    "frset1=frozenset({1,2,3})\n",
    "\n",
    "frset2=frozenset({3,4,5})\n",
    "\n",
    "print(\"union of frozenset is \",frset1|frset2)    # union\n",
    "\n",
    "print(\"intersection of frozenset is \",frset1&frset2)    # intersection\n",
    "\n",
    "print(\"set difference of frozenset is\",frset1-frset2)   # set difference\n",
    "\n",
    "print(\"symmetric difference of frozenset is\",frset1^frset2)    # symmetric difference\n",
    "\n",
    "print(\"frset2 is subset of freset1 ?\",frset2.issubset(frset1))    # subset\n",
    "\n"
   ]
  },
  {
   "cell_type": "code",
   "execution_count": null,
   "metadata": {},
   "outputs": [],
   "source": []
  }
 ],
 "metadata": {
  "kernelspec": {
   "display_name": "Python 3",
   "language": "python",
   "name": "python3"
  },
  "language_info": {
   "codemirror_mode": {
    "name": "ipython",
    "version": 3
   },
   "file_extension": ".py",
   "mimetype": "text/x-python",
   "name": "python",
   "nbconvert_exporter": "python",
   "pygments_lexer": "ipython3",
   "version": "3.8.5"
  }
 },
 "nbformat": 4,
 "nbformat_minor": 4
}
