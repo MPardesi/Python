{
 "cells": [
  {
   "cell_type": "code",
   "execution_count": 8,
   "metadata": {},
   "outputs": [
    {
     "name": "stdout",
     "output_type": "stream",
     "text": [
      "Enter number 10\n",
      "Factorial of 10 is 3628800\n"
     ]
    }
   ],
   "source": [
    "# Recursive Function - is a function who call itself or call another function or calling a function within function\n",
    "\n",
    "# formula is - factorial(n)=n*factorial(n-1)\n",
    "\n",
    "# factorial(1)=1 and factorial(0)=1\n",
    "\n",
    "# compalsary write boundry case\n",
    "\n",
    "def factorial(n):\n",
    "\n",
    "    return 1 if n==1 else (n*factorial(n-1))    # Here \"return 1 if n==1\" this is boundary case \n",
    "\n",
    "n=int(input(\"Enter number \"))\n",
    "\n",
    "print(\"Factorial of {0} is {1}\".format(n,factorial(n)))\n"
   ]
  },
  {
   "cell_type": "code",
   "execution_count": 9,
   "metadata": {},
   "outputs": [
    {
     "name": "stdout",
     "output_type": "stream",
     "text": [
      "Fibonancy series\n",
      "0\n",
      "1\n",
      "1\n",
      "2\n",
      "3\n",
      "5\n",
      "8\n",
      "13\n",
      "21\n",
      "34\n"
     ]
    }
   ],
   "source": [
    "# Fibonancci series \n",
    "\n",
    "# formula is - f(n)=f(n-1)+f(n-2)\n",
    "\n",
    "def fibonancci(num):\n",
    "    \n",
    "    return num if num<=1 else fibonancci(num-1)+fibonancci(num-2)   # Here \"return num if num<=1\" is boundary case\n",
    "\n",
    "i=10\n",
    "\n",
    "print(\"Fibonancy series\")\n",
    "\n",
    "for num in range(i):\n",
    "    \n",
    "    print(fibonancci(num))\n",
    "       "
   ]
  },
  {
   "cell_type": "code",
   "execution_count": null,
   "metadata": {},
   "outputs": [],
   "source": []
  }
 ],
 "metadata": {
  "kernelspec": {
   "display_name": "Python 3",
   "language": "python",
   "name": "python3"
  },
  "language_info": {
   "codemirror_mode": {
    "name": "ipython",
    "version": 3
   },
   "file_extension": ".py",
   "mimetype": "text/x-python",
   "name": "python",
   "nbconvert_exporter": "python",
   "pygments_lexer": "ipython3",
   "version": "3.8.5"
  }
 },
 "nbformat": 4,
 "nbformat_minor": 4
}
