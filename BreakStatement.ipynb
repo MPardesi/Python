{
 "cells": [
  {
   "cell_type": "code",
   "execution_count": 1,
   "metadata": {},
   "outputs": [
    {
     "name": "stdout",
     "output_type": "stream",
     "text": [
      "9\n",
      "8\n"
     ]
    }
   ],
   "source": [
    "# break statement  \n",
    "\n",
    "num=[9,8,7,6]\n",
    "\n",
    "for n in num :\n",
    "    \n",
    "    if n==7:\n",
    "    \n",
    "        break                        # exit from loop\n",
    "        \n",
    "        print(\"inside of loop\")\n",
    "    \n",
    "    else :\n",
    "\n",
    "         print(n)\n",
    "            \n",
    "else :\n",
    "    \n",
    "    print(\"outside of loop\")\n"
   ]
  },
  {
   "cell_type": "code",
   "execution_count": null,
   "metadata": {},
   "outputs": [],
   "source": []
  }
 ],
 "metadata": {
  "kernelspec": {
   "display_name": "Python 3",
   "language": "python",
   "name": "python3"
  },
  "language_info": {
   "codemirror_mode": {
    "name": "ipython",
    "version": 3
   },
   "file_extension": ".py",
   "mimetype": "text/x-python",
   "name": "python",
   "nbconvert_exporter": "python",
   "pygments_lexer": "ipython3",
   "version": "3.8.5"
  }
 },
 "nbformat": 4,
 "nbformat_minor": 4
}
