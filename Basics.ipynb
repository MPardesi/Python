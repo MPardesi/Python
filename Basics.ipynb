{
 "cells": [
  {
   "cell_type": "code",
   "execution_count": 18,
   "metadata": {},
   "outputs": [
    {
     "name": "stdout",
     "output_type": "stream",
     "text": [
      "Hello\n"
     ]
    }
   ],
   "source": [
    "# Declare a Function\n",
    "\n",
    "def display():\n",
    "    \n",
    "    print(\"Hello\")    # function definition\n",
    "\n",
    "display()    # function call"
   ]
  },
  {
   "cell_type": "code",
   "execution_count": 1,
   "metadata": {},
   "outputs": [
    {
     "name": "stdout",
     "output_type": "stream",
     "text": [
      "Addition is  77\n",
      "doc string is  \n",
      "    This function performs addition    \n",
      "    \n"
     ]
    }
   ],
   "source": [
    "# Program to print doc string\n",
    "\n",
    "def addition(a,b):\n",
    "    \n",
    "    \"\"\"\n",
    "    This function performs addition    \n",
    "    \"\"\"\n",
    "    \n",
    "    c=a+b\n",
    "    \n",
    "    print(\"Addition is \",c)       \n",
    "\n",
    "addition(34,43)\n",
    "\n",
    "print(\"doc string of function is \",addition.__doc__)    # to print doc string two underscore symbol is used before & after \"doc\" with function name\n"
   ]
  },
  {
   "cell_type": "code",
   "execution_count": 15,
   "metadata": {},
   "outputs": [
    {
     "name": "stdout",
     "output_type": "stream",
     "text": [
      "sum of elements in list is  110\n"
     ]
    }
   ],
   "source": [
    "# Program for return statement : sum of all element in list\n",
    "\n",
    "def sum(lst):\n",
    "\n",
    "    sum=0         # initially assigned to zero\n",
    "    \n",
    "    for i in lst:\n",
    "        \n",
    "        sum+=i    # i.e. sum=sum+i\n",
    "        \n",
    "    return sum    # \"return\" statement used\n",
    "\n",
    "num=sum([11,22,33,44])    # at function call list is passed\n",
    "\n",
    "print(\"sum of elements in list is \",num)\n"
   ]
  },
  {
   "cell_type": "code",
   "execution_count": 12,
   "metadata": {},
   "outputs": [
    {
     "name": "stdout",
     "output_type": "stream",
     "text": [
      "This is local variable\n",
      "This is global variable\n",
      "This is global variable\n"
     ]
    }
   ],
   "source": [
    "# scope and life time of variable in function\n",
    "\n",
    "global_var=\"This is global variable\"\n",
    "\n",
    "def lifetime():\n",
    "    \n",
    "    \"\"\" \n",
    "    This function test lif time of variable\n",
    "    \"\"\"\n",
    "    local_var=\"This is local variable\"\n",
    "    \n",
    "    print(local_var)\n",
    "    \n",
    "    print(global_var)\n",
    "    \n",
    "lifetime()\n",
    "\n",
    "print(global_var)\n",
    "\n",
    "#print(local_var)    # error generate because variable is destroyed when we return from function\n"
   ]
  },
  {
   "cell_type": "code",
   "execution_count": 19,
   "metadata": {},
   "outputs": [
    {
     "name": "stdout",
     "output_type": "stream",
     "text": [
      "enter n1 13\n",
      "enter n2 19\n",
      "HCF of 13 and 19 is 1 \n"
     ]
    }
   ],
   "source": [
    "# Program to calculate HCF(Highest Common Factor) of two numbers\n",
    "\n",
    "def hcf(a,b):\n",
    "    \n",
    "    small=b if a>b else a     # finding smaller number which can divide both a & b\n",
    "    \n",
    "    hcf=1    # initially assign to 1\n",
    "    \n",
    "    for i in range(1, small+1):     \n",
    "    \n",
    "        if(a%i==0) and (b%i==0):\n",
    "        \n",
    "            hcf=i\n",
    "            \n",
    "    return(hcf)\n",
    "\n",
    "n1=int(input(\"Enter n1 \"))\n",
    "\n",
    "n2=int(input(\"Enter n2 \"))\n",
    "\n",
    "print(\"HCF of {0} and {1} is {2} \".format(n1,n2,hcf(n1,n2)))\n"
   ]
  },
  {
   "cell_type": "code",
   "execution_count": 1,
   "metadata": {},
   "outputs": [
    {
     "name": "stdout",
     "output_type": "stream",
     "text": [
      "Enter num1 12\n",
      "Enter num2 32\n",
      "--------1 loop--------------------\n",
      "12%1 = 0, 32%1 = 1\n",
      "ans=l/lcm =  384.0\n",
      "--------2 loop--------------------\n",
      "12%2 = 0, 32%2 = 2\n",
      "ans=l/lcm =  192.0\n",
      "--------3 loop--------------------\n",
      "--------4 loop--------------------\n",
      "12%4 = 0, 32%4 = 4\n",
      "ans=l/lcm =  96.0\n",
      "--------5 loop--------------------\n",
      "--------6 loop--------------------\n",
      "--------7 loop--------------------\n",
      "--------8 loop--------------------\n",
      "--------9 loop--------------------\n",
      "--------10 loop--------------------\n",
      "--------11 loop--------------------\n",
      "--------12 loop--------------------\n",
      "LCM of 12 and 32 is 96.0 \n"
     ]
    }
   ],
   "source": [
    "# Program to calculate LCM of two numbers : using formula \"lcm=a*b/hcf(a,b)\"\"\n",
    "\n",
    "def lcm(a,b):\n",
    "    \n",
    "    l=a*b #6*12  =72\n",
    "    \n",
    "    small=b if a>b else a    # 6>12 return 6 smallest number among 2\n",
    "    \n",
    "    for i in range(1,small+1):   #1 -------> 7\n",
    "        \n",
    "        print(\"--------{0} loop--------------------\".format(i))\n",
    "        \n",
    "        if(a%i==0) and (b%i==0):  # 6%1, 12%1= 0, 6%2, 12%2= 0,6%3, 12%3=1,%4=0,%5=1,%6=0,%7\n",
    "            \n",
    "            print(\"{0}%{1} = {2}, {3}%{1} = {4}\".format(a,i,a%i,b,i,b%i))\n",
    "            \n",
    "            lcm=i #1, 2,4,6\n",
    "        \n",
    "            ans=l/lcm #72/1=72, 72/2=36,72/4=18, 72/6=12\n",
    "            \n",
    "            print(\"ans=l/lcm = \", ans)\n",
    "            \n",
    "    return(ans)\n",
    "\n",
    "num1=int(input(\"Enter num1 \"))\n",
    "\n",
    "num2=int(input(\"Enter num2 \"))\n",
    "\n",
    "print(\"LCM of {0} and {1} is {2} \".format(num1,num2,lcm(num1,num2)))\n"
   ]
  },
  {
   "cell_type": "code",
   "execution_count": 1,
   "metadata": {},
   "outputs": [
    {
     "name": "stdout",
     "output_type": "stream",
     "text": [
      "Hello MacBook\n"
     ]
    }
   ],
   "source": [
    "# Program for string concatination using function\n",
    "\n",
    "def print_name(name):\n",
    "    \n",
    "    print('Hello '+ str(name))\n",
    "\n",
    "print_name('MacBook')"
   ]
  },
  {
   "cell_type": "code",
   "execution_count": 5,
   "metadata": {},
   "outputs": [
    {
     "name": "stdout",
     "output_type": "stream",
     "text": [
      "select option\n",
      "1 for Addition\n",
      "2 for Substraction\n",
      "3 for Multiplication\n",
      "4 for Division\n",
      "Enter choice 1/2/3/41\n",
      "You choose  1\n",
      "First number is 3\n",
      "Second number is 4\n",
      "Addition of 3 and 4 is 7\n"
     ]
    }
   ],
   "source": [
    "# Program to create calculator using function\n",
    "\n",
    "def add(a,b):\n",
    "    \n",
    "    return a+b\n",
    "\n",
    "def sub(a,b):\n",
    "    \n",
    "    return a-b\n",
    "\n",
    "def mul(a,b):\n",
    "    \n",
    "    return(a*b)\n",
    "\n",
    "def div(a,b):\n",
    "    \n",
    "    return a/b\n",
    "\n",
    "print(\"select option\")\n",
    "\n",
    "print(\"1 for Addition\")\n",
    "\n",
    "print(\"2 for Substraction\")\n",
    "\n",
    "print(\"3 for Multiplication\")\n",
    "\n",
    "print(\"4 for Division\")\n",
    "\n",
    "choice=int(input(\"Enter choice 1/2/3/4\"))\n",
    "\n",
    "print(\"You choose \",choice)\n",
    "\n",
    "num1=int(input(\"First number is \"))\n",
    "\n",
    "num2=int(input(\"Second number is \"))\n",
    "\n",
    "if choice==1:\n",
    "\n",
    "    print(\"Addition of {0} and {1} is {2}\".format(num1,num2,add(num1,num2)))\n",
    "    \n",
    "elif choice==2:\n",
    "\n",
    "    print(\"Substraction of {0} and {1} is {2}\".format(num1,num2,sub(num1,num2)))\n",
    "    \n",
    "elif choice==3:\n",
    "\n",
    "    print(\"Multiplication of {0} and {1} is {2}\".format(num1,num2,mul(num1,num2)))\n",
    "\n",
    "elif choice==4:\n",
    "\n",
    "    print(\"Division of {0} and {1} is {2}\".format(num1,num2,div(num1,num2)))\n",
    "\n",
    "else:\n",
    "    \n",
    "    print(\"Invalid choice\")\n",
    "\n",
    "    "
   ]
  },
  {
   "cell_type": "code",
   "execution_count": null,
   "metadata": {},
   "outputs": [],
   "source": []
  },
  {
   "cell_type": "code",
   "execution_count": null,
   "metadata": {},
   "outputs": [],
   "source": []
  },
  {
   "cell_type": "code",
   "execution_count": null,
   "metadata": {},
   "outputs": [],
   "source": []
  }
 ],
 "metadata": {
  "kernelspec": {
   "display_name": "Python 3",
   "language": "python",
   "name": "python3"
  },
  "language_info": {
   "codemirror_mode": {
    "name": "ipython",
    "version": 3
   },
   "file_extension": ".py",
   "mimetype": "text/x-python",
   "name": "python",
   "nbconvert_exporter": "python",
   "pygments_lexer": "ipython3",
   "version": "3.8.5"
  }
 },
 "nbformat": 4,
 "nbformat_minor": 4
}
