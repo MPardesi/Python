{
 "cells": [
  {
   "cell_type": "code",
   "execution_count": 2,
   "metadata": {},
   "outputs": [
    {
     "name": "stdout",
     "output_type": "stream",
     "text": [
      "copy of dictionary is  {1: 'one', 2: 'two', 3: 'three'}\n",
      "same value for all key is  {'eng': 0, 'math': 0, 'sl': 0}\n",
      "keys of dictionary is  dict_keys([1, 2, 3])\n",
      "value of dictionary is  dict_values(['one', 'two', 'three'])\n",
      "predefined methods and attributes of dictionary are  ['__class__', '__contains__', '__delattr__', '__delitem__', '__dir__', '__doc__', '__eq__', '__format__', '__ge__', '__getattribute__', '__getitem__', '__gt__', '__hash__', '__init__', '__init_subclass__', '__iter__', '__le__', '__len__', '__lt__', '__ne__', '__new__', '__reduce__', '__reduce_ex__', '__repr__', '__reversed__', '__setattr__', '__setitem__', '__sizeof__', '__str__', '__subclasshook__', 'clear', 'copy', 'fromkeys', 'get', 'items', 'keys', 'pop', 'popitem', 'setdefault', 'update', 'values']\n"
     ]
    }
   ],
   "source": [
    "# Dictionary Methods \n",
    "\n",
    "dict={1:'one',2:'two',3:'three'}\n",
    "\n",
    "dict3=dict.copy()    # copy() method\n",
    "\n",
    "print(\"copy of dictionary is \",dict3)\n",
    "\n",
    "\n",
    "marks={}.fromkeys(['eng','math','sl'],0)    # fromkeys() method \"assign same value to all keys\" using list of tuples\n",
    "\n",
    "print(\"same value for all key is \",marks)\n",
    "\n",
    "\n",
    "print(\"keys of dictionary is \",dict.keys())   # returns dictionary keys\n",
    "\n",
    "\n",
    "print(\"value of dictionary is \",dict.values())    # returns dictionary values\n",
    "\n",
    "\n",
    "d={}\n",
    "\n",
    "print(\"predefined methods and attributes of dictionary are \",dir(d))    # returns methods and attributes of dictionary\n",
    "\n"
   ]
  },
  {
   "cell_type": "code",
   "execution_count": 3,
   "metadata": {},
   "outputs": [
    {
     "name": "stdout",
     "output_type": "stream",
     "text": [
      "original dictionary is  {'sagar': 2000, 'madhuri': 1000, 'vrushali': 3000, 'ritu': 4000, 'someemp': 7000, 'madhur': 5000, 'ritesh': 8000, 'aditya': 10000, 'rajesh': 6000, 'kamal': 9000}\n",
      "--------------------------------------------\n",
      "Employee list above 5k is  [('someemp', 7000), ('ritesh', 8000), ('aditya', 10000), ('rajesh', 6000), ('kamal', 9000)]\n",
      "Employee below 5k are {'sagar': 2000, 'madhuri': 1000, 'vrushali': 3000, 'ritu': 4000, 'madhur': 5000}\n",
      "after adding tag emp dict is  {'sagar_below 5k': 2000, 'madhuri_below 5k': 1000, 'vrushali_below 5k': 3000, 'ritu_below 5k': 4000, 'madhur_below 5k': 5000}\n"
     ]
    }
   ],
   "source": [
    "# Program to create a list having emp salary above 5000 and below 5000 then add tag to below 5000 through dictionary\n",
    "\n",
    "emp_dict={\"sagar\":2000,\"madhuri\":1000,\"vrushali\":3000,\"ritu\":4000,\"someemp\":7000,\"madhur\":5000,\"ritesh\":8000,\"aditya\":10000,\"rajesh\":6000,\"kamal\":9000}\n",
    "\n",
    "print(\"original dictionary is \",emp_dict)\n",
    "\n",
    "print(\"--------------------------------------------\")\n",
    "\n",
    "above5kList=[];      # empty list created\n",
    "\n",
    "for item in emp_dict.items():       # items() method used     \n",
    "    \n",
    "    if item[1] >5000:    # dictionary values are checked\n",
    "        \n",
    "        above5kList.append(item)    # empty list will appended by values greater then 5k\n",
    "\n",
    "print(\"Employee list above 5k is \",above5kList)     # list is printed\n",
    "\n",
    "for item in above5kList:\n",
    "    \n",
    "    if emp_dict[item[0]] is item[1]:\n",
    "        \n",
    "        emp_dict.pop(item[0])    # items above 5k deleted from original dictionary\n",
    "\n",
    "print(\"Employee below 5k are\",emp_dict)\n",
    "\n",
    "new_dict={k +\"_below 5k\":v for k,v in emp_dict.items()}   # below 5k tag added\n",
    "\n",
    "print(\"after adding tag emp dict is \",new_dict) # dictionary printed with newly added tag\n",
    "        "
   ]
  },
  {
   "cell_type": "code",
   "execution_count": 2,
   "metadata": {},
   "outputs": [
    {
     "name": "stdout",
     "output_type": "stream",
     "text": [
      "Dictionary after pop() is  xyz\n",
      "Dictionary after pop  {'name': 'abc', 'age': 28, 'no': 1234}\n",
      "Dictionary after popitem() is  ('no', 1234)\n",
      "Dictionary after popitem  {'name': 'abc', 'age': 28}\n"
     ]
    }
   ],
   "source": [
    "# Program to check difference between pop() and popitem() method\n",
    "\n",
    "# 1. Pop() method\n",
    "\n",
    "dict1={'name':'abc','age':28,'address':'xyz','no':1234}\n",
    "\n",
    "c=dict1.pop('address')       # only key removed, value is as it is\n",
    "\n",
    "print(\"Dictionary after pop() is \",c)\n",
    "\n",
    "print(\"Dictionary after pop \",dict1)\n",
    "\n",
    "\n",
    "# 2. popitem() method\n",
    "\n",
    "d=dict1.popitem()       # delete random key-value pair completely\n",
    "\n",
    "print(\"Dictionary after popitem() is \",d)\n",
    "\n",
    "print(\"Dictionary after popitem \",dict1)\n"
   ]
  },
  {
   "cell_type": "code",
   "execution_count": null,
   "metadata": {},
   "outputs": [],
   "source": []
  }
 ],
 "metadata": {
  "kernelspec": {
   "display_name": "Python 3",
   "language": "python",
   "name": "python3"
  },
  "language_info": {
   "codemirror_mode": {
    "name": "ipython",
    "version": 3
   },
   "file_extension": ".py",
   "mimetype": "text/x-python",
   "name": "python",
   "nbconvert_exporter": "python",
   "pygments_lexer": "ipython3",
   "version": "3.8.5"
  }
 },
 "nbformat": 4,
 "nbformat_minor": 4
}
