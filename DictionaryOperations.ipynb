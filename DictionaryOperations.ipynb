{
 "cells": [
  {
   "cell_type": "code",
   "execution_count": 1,
   "metadata": {},
   "outputs": [
    {
     "name": "stdout",
     "output_type": "stream",
     "text": [
      "{1: 'one', 2: 'two', 3: 'three'}\n",
      "accessing dictionary value  abc\n",
      "accessing dictionary values using get method  28\n",
      "modified element is  {'name': 'Ana', 'age': 28, 'address': 'xyz'}\n",
      "new key added is  {'name': 'Ana', 'age': 28, 'address': 'xyz', 'degree': 'MCS'}\n",
      "remove key but value remains is  xyz\n",
      "dictionary after pop method is  {'name': 'Ana', 'age': 28, 'degree': 'MCS'}\n",
      "popitem which remove any element from dictionary is  ('degree', 'MCS')\n",
      "dictionary after popitem method is  {'name': 'Ana', 'age': 28}\n",
      "dictionary is  {'a': 'ai', 'm': 'ml'}\n",
      "after clear method dictionary is  {}\n"
     ]
    }
   ],
   "source": [
    "# Dictionary operation\n",
    "\n",
    "dict={1:'one',2:'two',3:'three'}    # dictionary created\n",
    "\n",
    "print(dict)\n",
    "\n",
    "\n",
    "# dict1 = dict([(1,'aaa'),(2,'bbb')])     # creating dictionary with list of tuples using dict() method \n",
    "\n",
    "# print(dict1)\n",
    "\n",
    "\n",
    "dict1={'name':'abc','age':28,'address':'xyz'}     # accessing dictionary values\n",
    "\n",
    "print(\"accessing dictionary value \",dict1['name'])\n",
    "\n",
    "print(\"accessing dictionary values using get method \",dict1.get('age'))  # value access using get() method\n",
    "\n",
    "\n",
    "dict1['name']=\"Ana\"     # updating/modifing dictionary element\n",
    "\n",
    "print(\"modified element is \",dict1)\n",
    "\n",
    "\n",
    "\n",
    "dict1['degree']=\"MCS\"    # added new key to dictionary\n",
    "\n",
    "print(\"new key added is \",dict1)\n",
    "\n",
    "\n",
    "\n",
    "print(\"remove key but value remains is \",dict1.pop('address'))    # removing element using \"key\" through \"pop()\" method\n",
    "\n",
    "print(\"dictionary after pop method is \",dict1)\n",
    "\n",
    "\n",
    "\n",
    "print(\"popitem which remove any element from dictionary is \",dict1.popitem())   # popitem() method\n",
    "\n",
    "print(\"dictionary after popitem method is \",dict1)\n",
    "\n",
    "\n",
    "\n",
    "dict2={'a':'ai','m':'ml','d':'ds'}\n",
    "\n",
    "del dict2['d']    # using \"del\" keyword complete key-value pair delete\n",
    "\n",
    "print(\"dictionary is \",dict2)\n",
    "\n",
    "\n",
    "\n",
    "dict2.clear()     # remove all elements using clear() method\n",
    "\n",
    "print(\"after clear method dictionary is \",dict2)\n",
    "\n"
   ]
  },
  {
   "cell_type": "code",
   "execution_count": 1,
   "metadata": {},
   "outputs": [
    {
     "name": "stdout",
     "output_type": "stream",
     "text": [
      "original dictionary is  {'sagar': 2000, 'madhuri': 1000, 'vrushali': 3000, 'ritu': 4000, 'someemp': 7000, 'madhur': 5000, 'ritesh': 8000, 'aditya': 10000, 'rajesh': 6000, 'kamal': 9000}\n",
      "--------------------------------------------\n",
      "Employee list above 5k is  [('someemp', 7000), ('ritesh', 8000), ('aditya', 10000), ('rajesh', 6000), ('kamal', 9000)]\n",
      "Employee below 5k are {'sagar': 2000, 'madhuri': 1000, 'vrushali': 3000, 'ritu': 4000, 'madhur': 5000}\n",
      "after adding tag emp dict is  {'sagar_below 5k': 2000, 'madhuri_below 5k': 1000, 'vrushali_below 5k': 3000, 'ritu_below 5k': 4000, 'madhur_below 5k': 5000}\n"
     ]
    }
   ],
   "source": [
    "# Program to create a list having emp salary above 5000 and below 5000 then add tag to below 5000 through dictionary\n",
    "\n",
    "emp_dict={\"sagar\":2000,\"madhuri\":1000,\"vrushali\":3000,\"ritu\":4000,\"someemp\":7000,\"madhur\":5000,\"ritesh\":8000,\"aditya\":10000,\"rajesh\":6000,\"kamal\":9000}\n",
    "\n",
    "print(\"original dictionary is \",emp_dict)\n",
    "\n",
    "print(\"--------------------------------------------\")\n",
    "\n",
    "above5kList=[];      # empty list created\n",
    "\n",
    "for item in emp_dict.items():       # items() method used     \n",
    "    \n",
    "    if item[1] >5000:    # dictionary values are checked\n",
    "        \n",
    "        above5kList.append(item)    # empty list will appended by values greater then 5k\n",
    "\n",
    "print(\"Employee list above 5k is \",above5kList)     # list is printed\n",
    "\n",
    "for item in above5kList:\n",
    "    \n",
    "    if emp_dict[item[0]] is item[1]:\n",
    "        \n",
    "        emp_dict.pop(item[0])    # items above 5k deleted from original dictionary\n",
    "\n",
    "print(\"Employee below 5k are\",emp_dict)\n",
    "\n",
    "new_dict={k +\"_below 5k\":v for k,v in emp_dict.items()}   # below 5k tag added\n",
    "\n",
    "print(\"after adding tag emp dict is \",new_dict) # dictionary printed with newly added tag\n",
    "        "
   ]
  },
  {
   "cell_type": "code",
   "execution_count": null,
   "metadata": {
    "scrolled": true
   },
   "outputs": [],
   "source": []
  },
  {
   "cell_type": "code",
   "execution_count": null,
   "metadata": {},
   "outputs": [],
   "source": []
  },
  {
   "cell_type": "code",
   "execution_count": null,
   "metadata": {},
   "outputs": [],
   "source": []
  },
  {
   "cell_type": "code",
   "execution_count": null,
   "metadata": {},
   "outputs": [],
   "source": []
  },
  {
   "cell_type": "code",
   "execution_count": null,
   "metadata": {},
   "outputs": [],
   "source": []
  }
 ],
 "metadata": {
  "kernelspec": {
   "display_name": "Python 3",
   "language": "python",
   "name": "python3"
  },
  "language_info": {
   "codemirror_mode": {
    "name": "ipython",
    "version": 3
   },
   "file_extension": ".py",
   "mimetype": "text/x-python",
   "name": "python",
   "nbconvert_exporter": "python",
   "pygments_lexer": "ipython3",
   "version": "3.8.5"
  }
 },
 "nbformat": 4,
 "nbformat_minor": 4
}
