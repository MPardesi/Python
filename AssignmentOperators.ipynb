{
 "cells": [
  {
   "cell_type": "code",
   "execution_count": 1,
   "metadata": {},
   "outputs": [
    {
     "name": "stdout",
     "output_type": "stream",
     "text": [
      "3\n",
      "2\n",
      "4\n",
      "1.0\n",
      "0\n",
      "13\n",
      "169\n"
     ]
    }
   ],
   "source": [
    "# Assignment operators\n",
    "\n",
    "x=2\n",
    "\n",
    "x+=1     # add then assign\n",
    "\n",
    "print(x)\n",
    "\n",
    "x-=1     # substract then assign\n",
    "\n",
    "print(x)\n",
    "\n",
    "x*=2     # multiply then assign\n",
    "\n",
    "print(x)\n",
    "\n",
    "x/=4     # divide then assign\n",
    "\n",
    "print(x)\n",
    "\n",
    "y=10\n",
    "\n",
    "y%=2     # modulus then assign\n",
    "\n",
    "print(y)\n",
    "\n",
    "y=53\n",
    "\n",
    "y//=4    # floor division then assign\n",
    "\n",
    "print(y)\n",
    "\n",
    "y**=2    # exponent then assign\n",
    "\n",
    "print(y)\n"
   ]
  },
  {
   "cell_type": "code",
   "execution_count": null,
   "metadata": {},
   "outputs": [],
   "source": []
  },
  {
   "cell_type": "code",
   "execution_count": null,
   "metadata": {},
   "outputs": [],
   "source": []
  }
 ],
 "metadata": {
  "kernelspec": {
   "display_name": "Python 3",
   "language": "python",
   "name": "python3"
  },
  "language_info": {
   "codemirror_mode": {
    "name": "ipython",
    "version": 3
   },
   "file_extension": ".py",
   "mimetype": "text/x-python",
   "name": "python",
   "nbconvert_exporter": "python",
   "pygments_lexer": "ipython3",
   "version": "3.8.5"
  }
 },
 "nbformat": 4,
 "nbformat_minor": 4
}
