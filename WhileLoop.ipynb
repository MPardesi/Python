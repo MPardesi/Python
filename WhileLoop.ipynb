{
 "cells": [
  {
   "cell_type": "code",
   "execution_count": 1,
   "metadata": {},
   "outputs": [
    {
     "name": "stdout",
     "output_type": "stream",
     "text": [
      "multiplication of elements in tuple is 24\n"
     ]
    }
   ],
   "source": [
    "# While Loop \"multiplication of elements in tuple\"\n",
    "\n",
    "tpl=(1,2,3,4)           # tuple defined\n",
    "\n",
    "indx=0                  # tuple index\n",
    "\n",
    "multi=1                 # multiplication value\n",
    "\n",
    "while indx < len(tpl):\n",
    "\n",
    "    multi*=tpl[indx]        \n",
    "    \n",
    "    indx+=1\n",
    "\n",
    "print(\"multiplication of elements in tuple is {}\".format(multi))\n"
   ]
  },
  {
   "cell_type": "code",
   "execution_count": null,
   "metadata": {},
   "outputs": [],
   "source": []
  }
 ],
 "metadata": {
  "kernelspec": {
   "display_name": "Python 3",
   "language": "python",
   "name": "python3"
  },
  "language_info": {
   "codemirror_mode": {
    "name": "ipython",
    "version": 3
   },
   "file_extension": ".py",
   "mimetype": "text/x-python",
   "name": "python",
   "nbconvert_exporter": "python",
   "pygments_lexer": "ipython3",
   "version": "3.8.5"
  }
 },
 "nbformat": 4,
 "nbformat_minor": 4
}
