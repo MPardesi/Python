{
 "cells": [
  {
   "cell_type": "code",
   "execution_count": 1,
   "metadata": {},
   "outputs": [
    {
     "name": "stdout",
     "output_type": "stream",
     "text": [
      "large no is 30\n"
     ]
    }
   ],
   "source": [
    "# If else statement\n",
    "\n",
    "n1,n2,n3=10,20,30\n",
    "\n",
    "if n1>n2:\n",
    "    \n",
    "    large=n1\n",
    "    \n",
    "elif n2>n3:\n",
    "    \n",
    "    large=n2\n",
    "    \n",
    "elif n3>n1 and n2:              # logical and \n",
    "    \n",
    "    large=n3\n",
    "    \n",
    "print(\"large no is {}\".format(large))\n"
   ]
  },
  {
   "cell_type": "code",
   "execution_count": 2,
   "metadata": {},
   "outputs": [
    {
     "name": "stdout",
     "output_type": "stream",
     "text": [
      "Enter a number1:100\n",
      "100\n",
      "Enter a number2:90\n",
      "90\n",
      "Enter a number3:80\n",
      "80\n",
      "large no is 100\n"
     ]
    }
   ],
   "source": [
    "num1=int(input(\"Enter a number1:\"))          # convert string to integer using int() method\n",
    "\n",
    "print(num1)\n",
    "\n",
    "num2=int(input(\"Enter a number2:\"))\n",
    "\n",
    "print(num2)\n",
    "\n",
    "num3=int(input(\"Enter a number3:\"))\n",
    "\n",
    "print(num3)\n",
    "\n",
    "if(num1>=num2 and num1>=num3):\n",
    "    \n",
    "    large=num1\n",
    "    \n",
    "elif(num2>=num1 and num2>=num3):\n",
    "    \n",
    "    large=num2\n",
    "    \n",
    "elif(num3>=num1 and num3>=num2):\n",
    "    \n",
    "    large=num3\n",
    "\n",
    "print(\"large no is {}\".format(large))\n"
   ]
  },
  {
   "cell_type": "code",
   "execution_count": 4,
   "metadata": {},
   "outputs": [
    {
     "name": "stdout",
     "output_type": "stream",
     "text": [
      "First num is 0\n",
      "Second num is 1\n",
      "Smaller num is  0\n"
     ]
    }
   ],
   "source": [
    "# Program for writing concise \"i.e. giving a lot of information clearly and in a few words; brief but comprehensive\" If-Else statement\n",
    "\n",
    "a=int(input(\"First num is \"))\n",
    "\n",
    "b=int(input(\"Second num is \"))\n",
    "\n",
    "c=b if a>b else a      # checks smaller number\n",
    "\n",
    "print(\"Smaller num is \",c)"
   ]
  },
  {
   "cell_type": "code",
   "execution_count": null,
   "metadata": {},
   "outputs": [],
   "source": []
  }
 ],
 "metadata": {
  "kernelspec": {
   "display_name": "Python 3",
   "language": "python",
   "name": "python3"
  },
  "language_info": {
   "codemirror_mode": {
    "name": "ipython",
    "version": 3
   },
   "file_extension": ".py",
   "mimetype": "text/x-python",
   "name": "python",
   "nbconvert_exporter": "python",
   "pygments_lexer": "ipython3",
   "version": "3.8.5"
  }
 },
 "nbformat": 4,
 "nbformat_minor": 4
}
