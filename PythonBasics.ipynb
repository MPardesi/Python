{
 "cells": [
  {
   "cell_type": "code",
   "execution_count": 1,
   "metadata": {},
   "outputs": [
    {
     "name": "stdout",
     "output_type": "stream",
     "text": [
      "jupyter\n"
     ]
    }
   ],
   "source": [
    "# Demo\n",
    "\n",
    "print(\"jupyter\")\n"
   ]
  },
  {
   "cell_type": "code",
   "execution_count": 2,
   "metadata": {},
   "outputs": [
    {
     "name": "stdout",
     "output_type": "stream",
     "text": [
      "['False', 'None', 'True', 'and', 'as', 'assert', 'async', 'await', 'break', 'class', 'continue', 'def', 'del', 'elif', 'else', 'except', 'finally', 'for', 'from', 'global', 'if', 'import', 'in', 'is', 'lambda', 'nonlocal', 'not', 'or', 'pass', 'raise', 'return', 'try', 'while', 'with', 'yield']\n",
      "keyword count= 35\n"
     ]
    }
   ],
   "source": [
    "# Importing keywords\n",
    "\n",
    "import keyword\n",
    "\n",
    "print(keyword.kwlist)\n",
    "\n",
    "print(\"keyword count=\",len(keyword.kwlist))\n"
   ]
  },
  {
   "cell_type": "code",
   "execution_count": 13,
   "metadata": {},
   "outputs": [
    {
     "name": "stdout",
     "output_type": "stream",
     "text": [
      "1\n",
      "2\n",
      "3\n",
      "4\n",
      "5\n",
      "6\n",
      "7\n",
      "8\n",
      "9\n",
      "10\n"
     ]
    }
   ],
   "source": [
    "# Indentation\n",
    "\n",
    "for i in range(1,11):\n",
    "    \n",
    "    print(i)\n",
    "    "
   ]
  },
  {
   "cell_type": "code",
   "execution_count": 9,
   "metadata": {},
   "outputs": [
    {
     "name": "stdout",
     "output_type": "stream",
     "text": [
      "<class 'str'> <class 'float'> <class 'int'>\n"
     ]
    }
   ],
   "source": [
    "# Statements\n",
    "\n",
    "a=\"qaz\";b=2.5;c=89\n",
    "\n",
    "print(type(a),type(b),type(c))\n"
   ]
  },
  {
   "cell_type": "code",
   "execution_count": 10,
   "metadata": {},
   "outputs": [
    {
     "name": "stdout",
     "output_type": "stream",
     "text": [
      "139762066971952\n"
     ]
    }
   ],
   "source": [
    "# Variable Memory Address Access\n",
    "\n",
    "print(id(a))\n"
   ]
  },
  {
   "cell_type": "code",
   "execution_count": 14,
   "metadata": {},
   "outputs": [
    {
     "name": "stdout",
     "output_type": "stream",
     "text": [
      "True\n",
      "<class 'complex'>\n"
     ]
    }
   ],
   "source": [
    "# Data Type - complex\n",
    "\n",
    "a=1+2j\n",
    "\n",
    "print(isinstance(a,complex))\n",
    "\n",
    "print(type(a))\n"
   ]
  },
  {
   "cell_type": "code",
   "execution_count": 31,
   "metadata": {},
   "outputs": [
    {
     "name": "stdout",
     "output_type": "stream",
     "text": [
      "i\n",
      "r\n",
      "jupyter\n"
     ]
    }
   ],
   "source": [
    "# String \n",
    "\n",
    "str=\"This is jupyter\"    # string define\n",
    "\n",
    "print(str[2])           # single letter\n",
    "\n",
    "print(str[-1])         # last letter\n",
    "\n",
    "print(str[8:])         # slicing\n"
   ]
  },
  {
   "cell_type": "code",
   "execution_count": 23,
   "metadata": {},
   "outputs": [
    {
     "name": "stdout",
     "output_type": "stream",
     "text": [
      "2\n",
      "[1, 2, 'AI', 76.9]\n"
     ]
    }
   ],
   "source": [
    "# List \n",
    "\n",
    "lst=[1,2,3,76.9]     # list define\n",
    "\n",
    "print(lst[1])        # list indexing\n",
    "\n",
    "lst[2]=\"AI\"          # list elements are mutable i.e. changable\n",
    "print(lst)\n"
   ]
  },
  {
   "cell_type": "code",
   "execution_count": 30,
   "metadata": {},
   "outputs": [
    {
     "name": "stdout",
     "output_type": "stream",
     "text": [
      "8.9\n"
     ]
    }
   ],
   "source": [
    "# Tuple\n",
    "\n",
    "tpl=(8,\"ML\",8.9)      # tuple define\n",
    "\n",
    "print(tpl[2])        # tuple indexing\n",
    "\n",
    "# tuple elements are immutable i.e. not changable\n"
   ]
  },
  {
   "cell_type": "code",
   "execution_count": 39,
   "metadata": {},
   "outputs": [
    {
     "name": "stdout",
     "output_type": "stream",
     "text": [
      "{70, 10, 80, 50, 20}\n",
      "5\n"
     ]
    }
   ],
   "source": [
    "# Set\n",
    "\n",
    "st={10,20,50,80,20,70,50}     # set define\n",
    "\n",
    "print(st)                     # set contains unique values\n",
    "                                          \n",
    "print(len(st))                # duplicate values are not counted\n"
   ]
  },
  {
   "cell_type": "code",
   "execution_count": 47,
   "metadata": {},
   "outputs": [
    {
     "name": "stdout",
     "output_type": "stream",
     "text": [
      "ML\n"
     ]
    }
   ],
   "source": [
    "# Dictionary \n",
    "\n",
    "dict={'a':\"AI\", 'm':\"ML\", 'd':\"DS\"}       # dictionary define\n",
    "\n",
    "print(dict['m'])                          # dictionary indexing using key\n"
   ]
  },
  {
   "cell_type": "code",
   "execution_count": 56,
   "metadata": {},
   "outputs": [
    {
     "data": {
      "text/plain": [
       "7"
      ]
     },
     "execution_count": 56,
     "metadata": {},
     "output_type": "execute_result"
    }
   ],
   "source": [
    "# Data type conversion\n",
    "\n",
    "int(7.5)          # converted float to integer"
   ]
  },
  {
   "cell_type": "code",
   "execution_count": 57,
   "metadata": {},
   "outputs": [
    {
     "data": {
      "text/plain": [
       "5.0"
      ]
     },
     "execution_count": 57,
     "metadata": {},
     "output_type": "execute_result"
    }
   ],
   "source": [
    "float(5)         # converted integer to float"
   ]
  },
  {
   "cell_type": "code",
   "execution_count": 69,
   "metadata": {},
   "outputs": [
    {
     "data": {
      "text/plain": [
       "['p', 'y', 't', 'h', 'o', 'n']"
      ]
     },
     "execution_count": 69,
     "metadata": {},
     "output_type": "execute_result"
    }
   ],
   "source": [
    "list(\"python\")   # converted string to list using list() method"
   ]
  },
  {
   "cell_type": "code",
   "execution_count": 75,
   "metadata": {},
   "outputs": [
    {
     "name": "stdout",
     "output_type": "stream",
     "text": [
      "This is jupyter framework with python version 3\n"
     ]
    }
   ],
   "source": [
    "# Output formatting\n",
    "\n",
    "a=\"jupyter\";b=3\n",
    "\n",
    "print(\"This is {} framework with python version {}\".format(a,b))        # using format() method\n"
   ]
  },
  {
   "cell_type": "code",
   "execution_count": 74,
   "metadata": {},
   "outputs": [
    {
     "name": "stdout",
     "output_type": "stream",
     "text": [
      "Enter value for a=89\n",
      "Enter value for b=60\n",
      "Addition of a & b is  8960\n"
     ]
    }
   ],
   "source": [
    "# Input from user using input() method\n",
    "\n",
    "a=input(\"Enter value for a=\")\n",
    "\n",
    "b=input(\"Enter value for b=\")\n",
    "\n",
    "print(\"Addition of a & b is \",(a+b))\n"
   ]
  },
  {
   "cell_type": "code",
   "execution_count": 1,
   "metadata": {},
   "outputs": [
    {
     "name": "stdout",
     "output_type": "stream",
     "text": [
      "30\n",
      "10\n",
      "200\n",
      "2.0\n",
      "1\n",
      "3\n",
      "-4\n",
      "17.5\n",
      "8\n"
     ]
    }
   ],
   "source": [
    "# Arithmetic Operators\n",
    "\n",
    "x=20;y=10\n",
    "\n",
    "print(x+y)    # addition\n",
    "\n",
    "print(x-y)    # substraction\n",
    "\n",
    "print(x*y)    # multiplication\n",
    "\n",
    "print(x/y)    # division\n",
    "\n",
    "print(35%2)   # modulus \"which returns remainder after divindig the number\"\n",
    "\n",
    "print(15//4)  # floor division \"3.75 ouput is rounded down so ans is 3\"\n",
    "print(-15//4) # floor division \"-3.75 ouput is rounde up so ans is -4\"\n",
    "\n",
    "print(35/2)\n",
    "\n",
    "print(2**3)   # exponent \"power of\""
   ]
  },
  {
   "cell_type": "code",
   "execution_count": 2,
   "metadata": {},
   "outputs": [
    {
     "name": "stdout",
     "output_type": "stream",
     "text": [
      "True\n",
      "False\n",
      "False\n",
      "True\n",
      "True\n",
      "False\n"
     ]
    }
   ],
   "source": [
    "# Comparison operators \"returns true or false as ans\"\n",
    "\n",
    "a=55;b=45\n",
    "\n",
    "print(a>b)      # grester than\n",
    "\n",
    "print(a<b)      # less than\n",
    "\n",
    "print(a==b)     # equals to\n",
    "\n",
    "print(a!=b)     # not equal to\n",
    "\n",
    "print(a>=b)     # greater than equal to\n",
    "\n",
    "print(a<=b)     # less than equal to\n"
   ]
  },
  {
   "cell_type": "code",
   "execution_count": 9,
   "metadata": {},
   "outputs": [
    {
     "name": "stdout",
     "output_type": "stream",
     "text": [
      "False\n",
      "True\n",
      "False\n"
     ]
    }
   ],
   "source": [
    "# Logical operators \"returns true or false as ans\"\n",
    "\n",
    "a,b=True,False\n",
    "\n",
    "print(a and b)    # logical and \"t+t=t otherwise f\"\n",
    "\n",
    "print(a or b)     # logical or \"f+f=f otherwise t\"\n",
    "\n",
    "print(not a)      # logical not "
   ]
  },
  {
   "cell_type": "code",
   "execution_count": 29,
   "metadata": {},
   "outputs": [
    {
     "name": "stdout",
     "output_type": "stream",
     "text": [
      "0\n",
      "12\n",
      "-9\n",
      "12\n",
      "2\n",
      "32\n"
     ]
    }
   ],
   "source": [
    "# Bitwise operators \" do binary conversion\"\n",
    "\n",
    "a,b=4,8\n",
    "\n",
    "print(a&b)     # bitwise and\n",
    "\n",
    "print(a|b)     # bitwise or\n",
    "\n",
    "print(~b)      # bitwise not\n",
    "\n",
    "print(a^b)     # bitwise xor\n",
    "\n",
    "print(a>>1)    # bitwise rightshift\n",
    "\n",
    "print(b<<2)    # bitise leftshift\n"
   ]
  },
  {
   "cell_type": "code",
   "execution_count": 47,
   "metadata": {},
   "outputs": [
    {
     "name": "stdout",
     "output_type": "stream",
     "text": [
      "3\n",
      "2\n",
      "4\n",
      "1.0\n",
      "0\n",
      "13\n",
      "169\n"
     ]
    }
   ],
   "source": [
    "# Assignment operators\n",
    "\n",
    "x=2\n",
    "\n",
    "x+=1     # add then assign\n",
    "\n",
    "print(x)\n",
    "\n",
    "x-=1     # substract then assign\n",
    "\n",
    "print(x)\n",
    "\n",
    "x*=2     # multiply then assign\n",
    "\n",
    "print(x)\n",
    "\n",
    "x/=4     # divide then assign\n",
    "\n",
    "print(x)\n",
    "\n",
    "y=10\n",
    "\n",
    "y%=2     # modulus then assign\n",
    "\n",
    "print(y)\n",
    "\n",
    "y=53\n",
    "\n",
    "y//=4    # floor division then assign\n",
    "\n",
    "print(y)\n",
    "\n",
    "y**=2    # exponent then assign\n",
    "\n",
    "print(y)\n"
   ]
  },
  {
   "cell_type": "code",
   "execution_count": 2,
   "metadata": {},
   "outputs": [
    {
     "name": "stdout",
     "output_type": "stream",
     "text": [
      "True\n",
      "False\n"
     ]
    }
   ],
   "source": [
    "# Identity operators : is, is not \"only works with simple variable\"\n",
    "\n",
    "m=1\n",
    "n=1\n",
    "print(m is n)       # is operator \"returns true if both value points to same object\" \n",
    "\n",
    "p=\"hi\"\n",
    "q=\"hi\"\n",
    "print(p is not q)   # is not operator\n"
   ]
  },
  {
   "cell_type": "code",
   "execution_count": 69,
   "metadata": {},
   "outputs": [
    {
     "name": "stdout",
     "output_type": "stream",
     "text": [
      "True\n",
      "False\n",
      "True\n",
      "False\n"
     ]
    }
   ],
   "source": [
    "# Membership operator : in, not in \"only work with complex variables\"\n",
    "\n",
    "lst=[9,8,7]\n",
    "print(8 in lst)\n",
    "\n",
    "tpl=('a','b','c')\n",
    "print('c'not in tpl)\n",
    "\n",
    "st={65,'hi',2.5}\n",
    "print(2.5 in st)\n",
    "\n",
    "dict={'p':'pp','q':5}\n",
    "print('q' not in dict)\n"
   ]
  },
  {
   "cell_type": "code",
   "execution_count": 4,
   "metadata": {},
   "outputs": [
    {
     "name": "stdout",
     "output_type": "stream",
     "text": [
      "large no is 30\n"
     ]
    }
   ],
   "source": [
    "# If else statement\n",
    "\n",
    "n1,n2,n3=10,20,30\n",
    "\n",
    "if n1>n2:\n",
    "    \n",
    "    large=n1\n",
    "    \n",
    "elif n2>n3:\n",
    "    \n",
    "    large=n2\n",
    "    \n",
    "elif n3>n1 and n2:              # logical and \n",
    "    \n",
    "    large=n3\n",
    "    \n",
    "print(\"large no is {}\".format(large))\n"
   ]
  },
  {
   "cell_type": "code",
   "execution_count": 33,
   "metadata": {},
   "outputs": [
    {
     "name": "stdout",
     "output_type": "stream",
     "text": [
      "Enter a number1:100\n",
      "100\n",
      "Enter a number2:99\n",
      "99\n",
      "Enter a number3:98\n",
      "98\n",
      "large no is 100\n"
     ]
    }
   ],
   "source": [
    "num1=int(input(\"Enter a number1:\"))          # convert string to integer using int() method\n",
    "\n",
    "print(num1)\n",
    "\n",
    "num2=int(input(\"Enter a number2:\"))\n",
    "\n",
    "print(num2)\n",
    "\n",
    "num3=int(input(\"Enter a number3:\"))\n",
    "\n",
    "print(num3)\n",
    "\n",
    "if(num1>=num2 and num1>=num3):\n",
    "    \n",
    "    large=num1\n",
    "    \n",
    "elif(num2>=num1 and num2>=num3):\n",
    "    \n",
    "    large=num2\n",
    "    \n",
    "elif(num3>=num1 and num3>=num2):\n",
    "    \n",
    "    large=num3\n",
    "\n",
    "print(\"large no is {}\".format(large))\n"
   ]
  },
  {
   "cell_type": "code",
   "execution_count": 52,
   "metadata": {},
   "outputs": [
    {
     "name": "stdout",
     "output_type": "stream",
     "text": [
      "multiplication of elements in tuple is 24\n"
     ]
    }
   ],
   "source": [
    "# While Loop \"multiplication of elements in tuple\"\n",
    "\n",
    "tpl=(1,2,3,4)           # tuple defined\n",
    "\n",
    "indx=0                  # tuple index\n",
    "\n",
    "multi=1                 # multiplication value\n",
    "\n",
    "while indx < len(tpl):\n",
    "\n",
    "    multi*=tpl[indx]        \n",
    "    \n",
    "    indx+=1\n",
    "\n",
    "print(\"multiplication of elements in tuple is {}\".format(multi))\n"
   ]
  },
  {
   "cell_type": "markdown",
   "metadata": {},
   "source": []
  },
  {
   "cell_type": "code",
   "execution_count": 30,
   "metadata": {},
   "outputs": [
    {
     "name": "stdout",
     "output_type": "stream",
     "text": [
      "addition of elements in list is 15\n"
     ]
    }
   ],
   "source": [
    "# For loop \"addition of elements in list\"\n",
    "\n",
    "lst=[1,2,3,4,5]      # list define\n",
    "\n",
    "c=0                  # count initialized\n",
    "\n",
    "for i in lst:\n",
    "    \n",
    "    c+=i\n",
    "    \n",
    "print(\"addition of elements in list is {}\".format(c))\n"
   ]
  },
  {
   "cell_type": "code",
   "execution_count": 38,
   "metadata": {},
   "outputs": [
    {
     "name": "stdout",
     "output_type": "stream",
     "text": [
      "9\n",
      "8\n"
     ]
    }
   ],
   "source": [
    "# break statement  \n",
    "\n",
    "num=[9,8,7,6]\n",
    "\n",
    "for n in num :\n",
    "    \n",
    "    if n==7:\n",
    "    \n",
    "        break                        # exit from loop\n",
    "        \n",
    "        print(\"inside of loop\")\n",
    "    \n",
    "    else :\n",
    "\n",
    "         print(n)\n",
    "            \n",
    "else :\n",
    "    \n",
    "    print(\"outside of loop\")"
   ]
  },
  {
   "cell_type": "code",
   "execution_count": 49,
   "metadata": {},
   "outputs": [
    {
     "name": "stdout",
     "output_type": "stream",
     "text": [
      "1\n",
      "3\n",
      "5\n",
      "out of loop\n"
     ]
    }
   ],
   "source": [
    "# continue statement\n",
    "\n",
    "no=[1,2,3,4,5]\n",
    "\n",
    "for num in no:\n",
    "    \n",
    "    if num%2==0:\n",
    "        \n",
    "       continue\n",
    "        \n",
    "    print(num)\n",
    "        \n",
    "else:\n",
    "     \n",
    "    print(\"out of loop\")\n",
    "        "
   ]
  },
  {
   "cell_type": "code",
   "execution_count": 61,
   "metadata": {},
   "outputs": [
    {
     "name": "stdout",
     "output_type": "stream",
     "text": [
      "length of list is  4\n",
      "new element of list  [9, 8, 7, 6, 5]\n",
      "element inserted at perticular position is  [9, 8, 10, 7, 6, 5]\n",
      "new element using append  [9, 8, 10, 7, 6, 5, 6]\n",
      "first occurance removed  [9, 8, 10, 7, 5, 6]\n",
      "list within list  [9, 8, 10, 7, 5, 6, [4, 3, 2, 1]]\n",
      "extended list  [9, 8, 10, 7, 5, 6, [4, 3, 2, 1], 11, 12]\n",
      "deleted element  [9, 8, 10, 7, 5, 6, 11, 12]\n",
      "12\n",
      "using pop  [9, 8, 10, 7, 5, 6, 11]\n",
      "yes\n",
      "no\n",
      "list in reverse order  [0, 1, 2, 3, 4, 5, 6, 7, 8, 9]\n",
      "sorted list  [2, 4, 8, 44, 56]\n",
      "reverse sorted list  [56, 44, 8, 4, 2]\n",
      "list split  ['This', 'is', 'mac', 'book', 'air']\n",
      "list slicing  [8, 44]\n",
      "squares of number  [0, 1, 4, 9, 16, 25, 36, 49, 64, 81, 100]\n",
      "number with square  [(0, 0), (1, 2), (2, 4), (3, 6), (4, 8), (5, 10), (6, 12), (7, 14), (8, 16), (9, 18), (10, 20)]\n",
      "matrix is  [[1, 2, 3, 4], [5, 6, 7, 8], [9, 10, 11, 12]]\n",
      "transpose of matrix  [[1, 5, 9], [2, 6, 10], [3, 7, 11], [4, 8, 12]]\n"
     ]
    }
   ],
   "source": [
    "# Operation on List\n",
    "\n",
    "lst=[9,8,7,6]\n",
    "\n",
    "print(\"length of list is \",len(lst))   #1. length of list\n",
    "\n",
    "\n",
    "lst.append(5)     #2. add new element using append()\n",
    "\n",
    "print(\"new element of list \",lst)\n",
    "\n",
    "\n",
    "lst.insert(2,10)  #3. add new element using insert()\n",
    "\n",
    "print(\"element inserted at perticular position is \",lst)\n",
    "\n",
    "\n",
    "lst.append(6)     #4. add new element using append()\n",
    "\n",
    "print(\"new element using append \",lst)\n",
    "\n",
    "\n",
    "lst.remove(6)      #5. remove first occurance using remove()\n",
    "\n",
    "print(\"first occurance removed \",lst)\n",
    "\n",
    "\n",
    "lst1=[4,3,2,1]\n",
    "\n",
    "lst.append(lst1)   #6. appending list within list\n",
    "\n",
    "print(\"list within list \",lst)\n",
    "\n",
    "\n",
    "lst2=[11,12]\n",
    "\n",
    "lst.extend(lst2)   #7. extend list using extend()\n",
    "\n",
    "print(\"extended list \",lst)\n",
    "\n",
    "\n",
    "del lst[6]         #8. delete list element using del\n",
    "\n",
    "print(\"deleted element \",lst)\n",
    "\n",
    "\n",
    "p=lst.pop(7)       #9. deleting list element using pop()\n",
    "\n",
    "print(p)\n",
    "\n",
    "print(\"using pop \",lst)\n",
    "\n",
    "\n",
    "lst3=[1,'ok',2.5]\n",
    "\n",
    "if 'ok' in lst3:   #10. list related keyword \"in\"\n",
    "\n",
    "    print('yes')\n",
    "    \n",
    "\n",
    "if 2 not in lst3:  #11. list related keyword \"not in\"\n",
    "    \n",
    "    print('no')\n",
    "    \n",
    "\n",
    "\n",
    "lst4=[9,8,7,6,5,4,3,2,1,0]\n",
    "\n",
    "lst4.reverse()     #12. list in reverse order using reverse()\n",
    "\n",
    "print(\"list in reverse order \",lst4)\n",
    "\n",
    "\n",
    "lst5=[2,8,4,44,56]\n",
    "\n",
    "slst=sorted(lst5)     #13. sort list using sorted()\n",
    "\n",
    "print(\"sorted list \",slst)\n",
    "\n",
    "\n",
    "rslst=sorted(lst5,reverse=True)     #14. reverse sort list using \"reverse=True\" parameter\n",
    "\n",
    "print(\"reverse sorted list \",rslst)\n",
    "\n",
    "\n",
    "z=\"This is mac book air\"\n",
    "\n",
    "split=z.split()         #15. string split to create list\n",
    "\n",
    "print(\"list split \",split)\n",
    "\n",
    "\n",
    "print(\"list slicing \",lst5[1:5:2])     #16. list slicing\n",
    "\n",
    "\n",
    "#17. list comprehension\n",
    "\n",
    "square=[i**2 for i in range(11)]    # square of number\n",
    "\n",
    "print(\"squares of number \",square)\n",
    "\n",
    "\n",
    "ns=[(i,i*2) for i in range(11)]     # number with square\n",
    "\n",
    "print(\"number with square \",ns)\n",
    "\n",
    "\n",
    "matrix=[[1,2,3,4],[5,6,7,8],[9,10,11,12]]  # matrix create\n",
    "\n",
    "print(\"matrix is \",matrix)\n",
    "\n",
    "transpose=[[row[i] for row in matrix] for i in range(4)]    # transpose of matrix\n",
    "\n",
    "print(\"transpose of matrix \",transpose)\n",
    "\n"
   ]
  },
  {
   "cell_type": "code",
   "execution_count": 27,
   "metadata": {},
   "outputs": [
    {
     "name": "stdout",
     "output_type": "stream",
     "text": [
      "13.5\n",
      "27.0\n",
      "40.5\n",
      "54.0\n",
      "67.5\n",
      "81.0\n",
      "94.5\n",
      "108.0\n",
      "121.5\n",
      "135.0\n"
     ]
    }
   ],
   "source": [
    "a=13.5      #  table of 13.5\n",
    "\n",
    "for i in range(1,11):\n",
    "\n",
    "    i*=a\n",
    "    \n",
    "    print(i)\n",
    "    "
   ]
  },
  {
   "cell_type": "code",
   "execution_count": 57,
   "metadata": {},
   "outputs": [
    {
     "name": "stdout",
     "output_type": "stream",
     "text": [
      "nested tuple is  (1, 2, ('abc', 'xyz'), (7.8, 83.5), [3, 'pqr', 4.5])\n",
      "type of tuple is  <class 'tuple'>\n",
      "tuple element at positive index 2 is  ('abc', 'xyz')\n",
      "tuple element at negative index -1 is  [3, 'pqr', 4.5]\n",
      "nested tuple element at index 3 having position 1 is  83.5\n",
      "tuple slicing from 3 is  (1, 2, ('abc', 'xyz'))\n",
      "tuple slicing from -2 is ((7.8, 83.5), [3, 'pqr', 4.5])\n",
      "concatination is  (10, 9, 8, 7, 6, 5, 4, 3, 2, 1)\n",
      "tuple element with given number of time is  (123, 'go', 123, 'go', 123, 'go', 123, 'go')\n",
      "count of 3 is  2\n",
      "tuple element index is  3\n",
      "True\n",
      "length of tuple t is  9\n",
      "sorted tuple is  [1, 2, 3, 3, 5, 5, 7, 7, 8]\n",
      "largest element is  8\n",
      "smallest element is  1\n",
      "summation of element is  41\n"
     ]
    }
   ],
   "source": [
    "# Operation on tuple\n",
    "\n",
    "tpl=(1,2,('abc','xyz'),(7.8,83.5),[3,'pqr',4.5])  #1. nested tuple with list\n",
    "\n",
    "print(\"nested tuple is \",tpl)\n",
    "\n",
    "\n",
    "\n",
    "print(\"type of tuple is \",type(tpl))     #2. type of tuple\n",
    "\n",
    "\n",
    "print(\"tuple element at positive index 2 is \",tpl[2])    #3. accessing element using 2\n",
    "\n",
    "print(\"tuple element at negative index -1 is \",tpl[-1])  #4. accessing element using -1\n",
    "\n",
    "print(\"nested tuple element at index 3 having position 1 is \",tpl[3][1])    #5. accessing element from nested tuple\n",
    "\n",
    "\n",
    "print(\"tuple slicing from 3 is \",tpl[:3])     #6. tuple slicing  3\n",
    "\n",
    "print(\"tuple slicing from -2 is\",tpl[-2:])    #7. tuple slicing -2\n",
    "\n",
    "\n",
    "tpl1=(10,9,8,7,6)+(5,4,3,2,1)    #8. concatination of tuple using \"+\" operator\n",
    "\n",
    "print(\"concatination is \",tpl1)\n",
    "\n",
    "\n",
    "tpl2=((123,'go',)*4)    #9. repeat tuple element for given number of time using \"*\" operator\n",
    "\n",
    "print(\"tuple element with given number of time is \",tpl2)\n",
    "\n",
    "\n",
    "t=(1,2.5,'ok')     #10. delete entire tuple using \"del\" keyword\n",
    "\n",
    "del t\n",
    "\n",
    "\n",
    "t=(1,3,5,7,3,2,8,7,5)    #11. obtain number frequency using count() \n",
    "\n",
    "print(\"count of 3 is \",t.count(3))\n",
    "\n",
    "\n",
    "print(\"tuple element index is \",t.index(7))    #12. index of element using index()\n",
    "\n",
    "\n",
    "print(5 in t)     #13. check number exist or not using \"in\" keyword\n",
    "\n",
    "\n",
    "print(\"length of tuple t is \",len(t))     #14. length of tuple using len()\n",
    "\n",
    "\n",
    "newt=sorted(t)     #15. sorting tuple using sorted()\n",
    "\n",
    "print(\"sorted tuple is \",newt)\n",
    "\n",
    "\n",
    "print(\"largest element is \",max(t))     #16. find largest number using max()\n",
    "\n",
    "\n",
    "print(\"smallest element is \",min(t))    #17. find smallest number using min()\n",
    "\n",
    "\n",
    "print(\"sum of element is \",sum(t))      #18. addition of elements using sum()\n",
    "\n"
   ]
  },
  {
   "cell_type": "code",
   "execution_count": 12,
   "metadata": {},
   "outputs": [
    {
     "name": "stdout",
     "output_type": "stream",
     "text": [
      "set values are  {1, 2}\n",
      "set creation from list is  {3, 4}\n",
      "newly added elements are  {1, 2, 3}\n",
      "multiple elements added are  {1, 2, 3, 4, 5, 6}\n",
      "elements added through list and set are  {1, 2, 3, 4, 5, 6, 7, 8, 9, 10}\n",
      "set after discard is  {4}\n",
      "set after removed is  set()\n",
      "set element deleted using pop is  {2, 3, 4, 5, 6, 7, 8, 9, 10}\n",
      "set()\n",
      "union of set is  {1, 2, 3, 4, 5, 6, 7}\n",
      "union is  {1, 2, 3, 4, 5, 6, 7}\n",
      "intersection of set is  {3, 4, 5}\n",
      "intersectioin is  {3, 4, 5}\n",
      "set difference of set is {1, 2}\n",
      "set difference is  {1, 2}\n",
      "symmetric difference of set is  {1, 2, 6, 7}\n",
      "symmetric difference is  {1, 2, 6, 7}\n",
      "a is subset of b ? False\n",
      "b is subset if a ? True\n",
      "union of frozenset is  frozenset({1, 2, 3, 4, 5})\n",
      "intersection of frozenset is  frozenset({3})\n",
      "set difference of frozenset is frozenset({1, 2})\n",
      "symmetric difference of frozenset is frozenset({1, 2, 4, 5})\n",
      "frset2 is subset of freset1 ? False\n"
     ]
    }
   ],
   "source": [
    "# Set operations\n",
    "\n",
    "st={1,2}    #1. set create\n",
    "\n",
    "print(\"set values are \",st)\n",
    "\n",
    "\n",
    "s=set([3,4])    #2. set creadted from list using \"set()\" constructor\n",
    "\n",
    "print(\"set creation from list is \",s)\n",
    "\n",
    "\n",
    "st.add(3)       #3. element add using add()\"but it adds only one element at a time\"\n",
    "\n",
    "print(\"newly added elements are \",st)\n",
    "\n",
    "\n",
    "st.update([4,5,6])    #4. multiple elements are added using update() by defining element through list\n",
    "\n",
    "print(\"multiple elements added are \",st)\n",
    "\n",
    "\n",
    "st.update([7,8],{9,10})    #5. elements added through list and set using update()\n",
    "\n",
    "print(\"elements added through list and set are \",st)\n",
    "\n",
    "\n",
    "#6. set element delete\n",
    "\n",
    "\n",
    "s.discard(3)    # using discard()\n",
    "\n",
    "print(\"set after discard is \",s)\n",
    "\n",
    "\n",
    "s.remove(4)    #using remove()\n",
    "\n",
    "print(\"set after removed is \",s)\n",
    "\n",
    "\n",
    "st.pop()     # using pop() \"which delete set element sequentially\"\n",
    "\n",
    "print(\"set element deleted using pop is \",st)\n",
    "\n",
    "\n",
    "st.clear()   # clear all set element using clear()\n",
    "\n",
    "print(st)\n",
    "\n",
    "\n",
    "#7. union,intersection,set difference,symmetric difference\n",
    "\n",
    "\n",
    "set1={1,2,3,4,5}\n",
    "\n",
    "set2={3,4,5,6,7}\n",
    "\n",
    "print(\"union of set is \",set1|set2)    # union using \"|\" or operator\n",
    "\n",
    "print(\"union is \",set1.union(set2))    # union using union() method\n",
    "\n",
    "\n",
    "print(\"intersection of set is \",set1&set2)    # intersection using \"&\" and operator\n",
    "\n",
    "print(\"intersectioin is \",set1.intersection(set2))    # intersection using intersection() method\n",
    "\n",
    "\n",
    "print(\"set difference of set is\",set1-set2)    # set difference using \"-\" minus operator\n",
    "\n",
    "print(\"set difference is \",set1.difference(set2))     # set difference using difference() method\n",
    "\n",
    "\n",
    "print(\"symmetric difference of set is \",set1^set2)    # symmetric difference using \"^\" exponent operator\n",
    "\n",
    "print(\"symmetric difference is \",set1.symmetric_difference(set2))    # using symmetric_difference() method\n",
    "\n",
    "\n",
    "#8. subset using issubset() method\n",
    "\n",
    "\n",
    "a={'aa','bb','cc','dd'}\n",
    "\n",
    "b={'bb','dd'}\n",
    "\n",
    "print(\"a is subset of b ?\",a.issubset(b))\n",
    "\n",
    "print(\"b is subset if a ?\",b.issubset(a))\n",
    "\n",
    "\n",
    "#9. Frozenset using frozenset() method\n",
    "\n",
    "\n",
    "frset1=frozenset({1,2,3})\n",
    "\n",
    "frset2=frozenset({3,4,5})\n",
    "\n",
    "print(\"union of frozenset is \",frset1|frset2)    # union\n",
    "\n",
    "print(\"intersection of frozenset is \",frset1&frset2)    # intersection\n",
    "\n",
    "print(\"set difference of frozenset is\",frset1-frset2)   # set difference\n",
    "\n",
    "print(\"symmetric difference of frozenset is\",frset1^frset2)    # symmetric difference\n",
    "\n",
    "print(\"frset2 is subset of freset1 ?\",frset2.issubset(frset1))    # subset\n",
    "\n"
   ]
  },
  {
   "cell_type": "code",
   "execution_count": 1,
   "metadata": {},
   "outputs": [
    {
     "name": "stdout",
     "output_type": "stream",
     "text": [
      "{1: 'one', 2: 'two', 3: 'three'}\n",
      "accessing dictionary value  abc\n",
      "accessing dictionary values using get method  28\n",
      "modified element is  {'name': 'Ana', 'age': 28, 'address': 'xyz'}\n",
      "new key added is  {'name': 'Ana', 'age': 28, 'address': 'xyz', 'degree': 'MCS'}\n",
      "remove key but value remains is  xyz\n",
      "dictionary after pop method is  {'name': 'Ana', 'age': 28, 'degree': 'MCS'}\n",
      "popitem which remove any element from dictionary is  ('degree', 'MCS')\n",
      "dictionary after popitem method is  {'name': 'Ana', 'age': 28}\n",
      "dictionary is  {'a': 'ai', 'm': 'ml'}\n",
      "after clear method dictionary is  {}\n",
      "copy of dictionary is  {1: 'one', 2: 'two', 3: 'three'}\n",
      "same value for all key is  {'eng': 0, 'math': 0, 'sl': 0}\n",
      "keys of dictionary is  dict_keys([1, 2, 3])\n",
      "value of dictionary is  dict_values(['one', 'two', 'three'])\n",
      "predefined methods and attributes of dictionary are  ['__class__', '__contains__', '__delattr__', '__delitem__', '__dir__', '__doc__', '__eq__', '__format__', '__ge__', '__getattribute__', '__getitem__', '__gt__', '__hash__', '__init__', '__init_subclass__', '__iter__', '__le__', '__len__', '__lt__', '__ne__', '__new__', '__reduce__', '__reduce_ex__', '__repr__', '__reversed__', '__setattr__', '__setitem__', '__sizeof__', '__str__', '__subclasshook__', 'clear', 'copy', 'fromkeys', 'get', 'items', 'keys', 'pop', 'popitem', 'setdefault', 'update', 'values']\n"
     ]
    }
   ],
   "source": [
    "# Dictionary operation\n",
    "\n",
    "dict={1:'one',2:'two',3:'three'}    # dictionary created\n",
    "\n",
    "print(dict)\n",
    "\n",
    "\n",
    "\n",
    "#newdict = dict([(1,'aaa'),(2,'bbb')])     # creating dictionary with list of tuples using dict() method \n",
    "\n",
    "#print(\"Dictionary with list of tuples is \",newdict)\n",
    "\n",
    "\n",
    "\n",
    "dict1={'name':'abc','age':28,'address':'xyz'}     # accessing dictionary values\n",
    "\n",
    "print(\"accessing dictionary value \",dict1['name'])\n",
    "\n",
    "print(\"accessing dictionary values using get method \",dict1.get('age'))    # value access using get() method\n",
    "\n",
    "\n",
    "\n",
    "dict1['name']=\"Ana\"     # updating/modifing dictionary element\n",
    "\n",
    "print(\"modified element is \",dict1)\n",
    "\n",
    "\n",
    "\n",
    "dict1['degree']=\"MCS\"    # added new key to dictionary\n",
    "\n",
    "print(\"new key added is \",dict1)\n",
    "\n",
    "\n",
    "\n",
    "print(\"remove key but value remains is \",dict1.pop('address'))    # removing element using \"key\" through \"pop()\" method\n",
    "\n",
    "print(\"dictionary after pop method is \",dict1)\n",
    "\n",
    "\n",
    "\n",
    "print(\"popitem which remove any element from dictionary is \",dict1.popitem())   # popitem() method\n",
    "\n",
    "print(\"dictionary after popitem method is \",dict1)\n",
    "\n",
    "\n",
    "\n",
    "dict2={'a':'ai','m':'ml','d':'ds'}\n",
    "\n",
    "del dict2['d']    # using \"del\" keyword complete key-value pair delete\n",
    "\n",
    "print(\"dictionary is \",dict2)\n",
    "\n",
    "\n",
    "\n",
    "dict2.clear()     # remove all elements using clear() method\n",
    "\n",
    "print(\"after clear method dictionary is \",dict2)\n",
    "\n",
    "\n",
    "\n",
    "# Dictionary methods \n",
    "\n",
    "\n",
    "dict3=dict.copy()    # copy() method\n",
    "\n",
    "print(\"copy of dictionary is \",dict3)\n",
    "\n",
    "\n",
    "marks={}.fromkeys(['eng','math','sl'],0)    # fromkeys() method \"assign same value to all keys\" using list of tuples\n",
    "\n",
    "print(\"same value for all key is \",marks)\n",
    "\n",
    "\n",
    "print(\"keys of dictionary is \",dict.keys())   # returns dictionary keys\n",
    "\n",
    "\n",
    "print(\"value of dictionary is \",dict.values())    # returns dictionary values\n",
    "\n",
    "\n",
    "d={}\n",
    "\n",
    "print(\"predefined methods and attributes of dictionary are \",dir(d))    # returns methods and attributes of dictionary"
   ]
  },
  {
   "cell_type": "code",
   "execution_count": 37,
   "metadata": {},
   "outputs": [
    {
     "name": "stdout",
     "output_type": "stream",
     "text": [
      "string is  Hi Macbook..\n",
      "string related methods and attribute are  ['__add__', '__class__', '__contains__', '__delattr__', '__dir__', '__doc__', '__eq__', '__format__', '__ge__', '__getattribute__', '__getitem__', '__getnewargs__', '__gt__', '__hash__', '__init__', '__init_subclass__', '__iter__', '__le__', '__len__', '__lt__', '__mod__', '__mul__', '__ne__', '__new__', '__reduce__', '__reduce_ex__', '__repr__', '__rmod__', '__rmul__', '__setattr__', '__sizeof__', '__str__', '__subclasshook__', 'capitalize', 'casefold', 'center', 'count', 'encode', 'endswith', 'expandtabs', 'find', 'format', 'format_map', 'index', 'isalnum', 'isalpha', 'isascii', 'isdecimal', 'isdigit', 'isidentifier', 'islower', 'isnumeric', 'isprintable', 'isspace', 'istitle', 'isupper', 'join', 'ljust', 'lower', 'lstrip', 'maketrans', 'partition', 'replace', 'rfind', 'rindex', 'rjust', 'rpartition', 'rsplit', 'rstrip', 'split', 'splitlines', 'startswith', 'strip', 'swapcase', 'title', 'translate', 'upper', 'zfill']\n",
      "string repeation is  Hi Macbook..Hi Macbook..Hi Macbook..Hi Macbook..\n",
      "string concatination is  Hi Macbook..This is jupyter\n",
      "membership test of string is  True\n",
      "string in upper case format is  THIS IS JUPYTER\n",
      "string in lower case format is  this is jupyter\n",
      "finding letter is  2\n",
      "spliting the string is  ['This', 'is', 'jupyter']\n",
      "output of join is  ['T_h_i_s_ _i_s_ _j_u_p_y_t_e_r']\n",
      "replacing words is  Hello macbook\n",
      "given string is palindrom string\n",
      "This\n",
      "air\n",
      "and\n",
      "currently\n",
      "is\n",
      "jupyter\n",
      "macbook\n",
      "notebook\n",
      "with\n",
      "working\n"
     ]
    }
   ],
   "source": [
    "# String operation\n",
    "\n",
    "str=\"Hi Macbook..\"    # string create\n",
    "\n",
    "print(\"string is \",str)\n",
    "\n",
    "print(\"string related methods and attribute are \",dir(str))     # methods and attributes using dir()\n",
    "\n",
    "\n",
    "print(\"string repeation is \",str*4)      # repeat string 4 times\n",
    "\n",
    "\n",
    "str1=\"This is jupyter\"\n",
    "\n",
    "print(\"string concatination is \",str+str1)    # string concatination using \"+\" operator\n",
    "\n",
    "\n",
    "print(\"membership test of string is \",'i' in str1)    # membership test using \"in\" operator\n",
    "\n",
    "\n",
    "# string methods\n",
    "\n",
    "\n",
    "print(\"string in upper case format is \",str1.upper())    # using upper() method\n",
    "\n",
    "\n",
    "print(\"string in lower case format is \",str1.lower())   # using lower() method\n",
    "\n",
    "\n",
    "print(\"finding letter is \",str1.find('is'))      # using find() method\n",
    "\n",
    "\n",
    "print(\"spliting the string is \",str1.split())     # using split() method & get output in form of list\n",
    "\n",
    "\n",
    "print(\"output of join is \",['_'.join(str1)])     # using join() method & get output in form of string\n",
    "\n",
    "\n",
    "print(\"replacing words is \",'Hi macbook'.replace(\"Hi\",\"Hello\"))    # using replace() method\n",
    "\n",
    "\n",
    "\n",
    "# program to check given string is palindrom string or not\n",
    "\n",
    "\n",
    "mystr=\"mam\"\n",
    "\n",
    "revstr=reversed(mystr)    # reversed() used to make reverse of string\n",
    "\n",
    "if list(mystr)==list(revstr):\n",
    "    \n",
    "    print(\"given string is palindrom string\")\n",
    "    \n",
    "else :\n",
    "    \n",
    "    print(\"given string is simple string\")\n",
    "\n",
    "    \n",
    "\n",
    "# program to sort words in alphabetic order\n",
    "\n",
    "astr=\"This is  macbook air and currently working with jupyter notebook\"    # string create\n",
    "\n",
    "words=astr.split()    # first words are seperated using split() method \n",
    "\n",
    "words.sort()     # then words are sorted using sort() method\n",
    "\n",
    "for i in words:\n",
    "    \n",
    "    print(i)     # to print the words alphabeticaly for loop is used"
   ]
  },
  {
   "cell_type": "code",
   "execution_count": null,
   "metadata": {},
   "outputs": [],
   "source": []
  }
 ],
 "metadata": {
  "kernelspec": {
   "display_name": "Python 3",
   "language": "python",
   "name": "python3"
  },
  "language_info": {
   "codemirror_mode": {
    "name": "ipython",
    "version": 3
   },
   "file_extension": ".py",
   "mimetype": "text/x-python",
   "name": "python",
   "nbconvert_exporter": "python",
   "pygments_lexer": "ipython3",
   "version": "3.8.5"
  }
 },
 "nbformat": 4,
 "nbformat_minor": 4
}
